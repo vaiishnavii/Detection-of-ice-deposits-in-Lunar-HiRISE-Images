{
 "cells": [
  {
   "cell_type": "markdown",
   "metadata": {
    "id": "2-6kgdSCtIuX"
   },
   "source": [
    "# Detection of Ice Deposits in Lunar HiRISE Images\n"
   ]
  },
  {
   "cell_type": "code",
   "execution_count": 1,
   "metadata": {
    "id": "w5isY32gAdHj"
   },
   "outputs": [],
   "source": [
    "import os\n",
    "import os.path as op\n",
    "import json\n",
    "from pathlib import Path\n",
    "import shutil\n",
    "import logging\n",
    "import numpy as np\n",
    "from tqdm import tqdm\n",
    "from skimage import io\n",
    "from tensorflow.keras import layers, Input, Model, Sequential\n",
    "from tensorflow.keras.layers import Conv2D, MaxPooling2D, Flatten, Dense, Dropout, BatchNormalization, GlobalAveragePooling2D\n",
    "from tensorflow.keras.optimizers import Adam\n",
    "from tensorflow.keras.regularizers import l2\n",
    "from tensorflow.keras.callbacks import EarlyStopping\n",
    "import matplotlib.pyplot as plt\n",
    "import keras\n",
    "# from sklearn.metrics import classification_report\n",
    "from sklearn.metrics import f1_score, precision_score, recall_score, accuracy_score\n",
    "from keras.applications import EfficientNetB0, ResNet50, VGG16\n",
    "import warnings\n",
    "warnings.filterwarnings('ignore')"
   ]
  },
  {
   "cell_type": "markdown",
   "metadata": {
    "id": "C4nC0990uA0K"
   },
   "source": [
    "## 1. a) The dataset"
   ]
  },
  {
   "cell_type": "code",
   "execution_count": 2,
   "metadata": {
    "colab": {
     "base_uri": "https://localhost:8080/"
    },
    "id": "RzKEqWTwnlCv",
    "outputId": "c718b134-444b-4cac-e8bb-4184a0c154d9"
   },
   "outputs": [
    {
     "name": "stdout",
     "output_type": "stream",
     "text": [
      "Mounted at /content/drive\n"
     ]
    }
   ],
   "source": [
    "# from google.colab import drive\n",
    "# drive.mount('/content/drive')"
   ]
  },
  {
   "cell_type": "code",
   "execution_count": 3,
   "metadata": {
    "id": "E5FcX6u8Hgjm"
   },
   "outputs": [],
   "source": [
    "# Logging configuration\n",
    "logging.basicConfig(level=logging.INFO,\n",
    "                    datefmt='%H:%M:%S',\n",
    "                    format='%(asctime)s | %(levelname)-5s | %(module)-15s | %(message)s')\n",
    "\n",
    "IMAGE_SIZE = (299, 299)  # All images contained in this dataset are 299x299 (originally, to match Inception v3 input size)\n",
    "SEED = 17\n",
    "\n",
    "# Head directory containing all image subframes. Update with the relative path of your data directory\n",
    "data_head_dir = Path('/content/drive/MyDrive/DSML_PROJECT/data')\n",
    "\n",
    "# Find all subframe directories\n",
    "subdirs = [Path(subdir.stem) for subdir in data_head_dir.iterdir() if subdir.is_dir()]\n",
    "src_image_ids = ['_'.join(a_path.name.split('_')[:3]) for a_path in subdirs]"
   ]
  },
  {
   "cell_type": "code",
   "execution_count": 4,
   "metadata": {
    "id": "StvOiCVJHk_u"
   },
   "outputs": [],
   "source": [
    "# Load train/val/test subframe IDs\n",
    "def load_text_ids(file_path):\n",
    "    \"\"\"Simple helper to load all lines from a text file\"\"\"\n",
    "    with open(file_path, 'r') as f:\n",
    "        lines = [line.strip() for line in f.readlines()]\n",
    "    return lines\n",
    "\n",
    "# Load the subframe names for the three data subsets\n",
    "test_ids = load_text_ids('/content/drive/MyDrive/DSML_PROJECT/test_source_images.txt')\n",
    "validate_ids = load_text_ids('/content/drive/MyDrive/DSML_PROJECT/val_source_images.txt')\n",
    "train_ids = load_text_ids('/content/drive/MyDrive/DSML_PROJECT/train_source_images.txt')\n",
    "\n",
    "# Generate a list containing the dataset split for the matching subdirectory names\n",
    "subdir_splits = []\n",
    "for src_id in src_image_ids:\n",
    "    if src_id in train_ids:\n",
    "        subdir_splits.append('train')\n",
    "    elif src_id in validate_ids:\n",
    "        subdir_splits.append('validate')\n",
    "    elif(src_id in test_ids):\n",
    "        subdir_splits.append('test')\n",
    "    else:\n",
    "        logging.warning(f'{src_id}: Did not find designated split in train/validate/test list.')\n",
    "        subdir_splits.append(None)"
   ]
  },
  {
   "cell_type": "markdown",
   "metadata": {
    "id": "fICJI-XsuY_g"
   },
   "source": [
    "## 1. b) Data Exploration and Pre-processing\n",
    "i) ii) iii) All together"
   ]
  },
  {
   "cell_type": "code",
   "execution_count": 5,
   "metadata": {
    "id": "A-IEyKbQHnDQ"
   },
   "outputs": [],
   "source": [
    "import random\n",
    "import tensorflow as tf\n",
    "from PIL import Image\n",
    "\n",
    "def load_and_preprocess(img_loc, label):\n",
    "\n",
    "    def _inner_function(img_loc, label):\n",
    "\n",
    "        # Convert tensor to native type\n",
    "        img_loc_str = img_loc.numpy().decode('utf-8')\n",
    "        label_str = label.numpy().decode('utf-8')\n",
    "\n",
    "        img = Image.open(img_loc_str).convert('RGB')\n",
    "\n",
    "        img = np.array(img)\n",
    "        img = tf.image.resize(img, [299, 299])\n",
    "\n",
    "        img = img / 255.0\n",
    "\n",
    "        return img, 1 if label_str=='frost' else 0\n",
    "\n",
    "    # Wrap the Python function\n",
    "    X, y = tf.py_function(_inner_function, [img_loc, label], [tf.float32, tf.int64])\n",
    "\n",
    "    X.set_shape([299,299,3])\n",
    "    y.set_shape([])\n",
    "\n",
    "    return X, y\n",
    "\n",
    "def load_subdir_data(dir_path, image_size, seed=None):\n",
    "\n",
    "    \"\"\"Helper to create a TF dataset from each image subdirectory\"\"\"\n",
    "\n",
    "    # Grab only the classes that (1) we want to keep and (2) exist in this directory\n",
    "    tile_dir = dir_path / Path('tiles')\n",
    "    label_dir = dir_path /Path('labels')\n",
    "\n",
    "    loc_list = []\n",
    "\n",
    "    for folder in os.listdir(tile_dir):\n",
    "        if os.path.isdir(os.path.join(tile_dir, folder)):\n",
    "            for file in os.listdir(os.path.join(tile_dir, folder)):\n",
    "                if file.endswith(\".png\"):\n",
    "                    loc_list.append((os.path.join(os.path.join(tile_dir, folder), file), folder))\n",
    "\n",
    "    return loc_list\n",
    "\n",
    "# Loop over all subframes, loading each into a list\n",
    "tf_data_train, tf_data_test, tf_data_val = [], [], []\n",
    "tf_dataset_train, tf_dataset_test, tf_dataset_val = [], [], []\n",
    "\n",
    "# Update the batch and buffer size as per your model requirements\n",
    "buffer_size = 64\n",
    "batch_size = 32\n",
    "\n",
    "for subdir, split in zip(subdirs, subdir_splits):\n",
    "    full_path = data_head_dir / subdir\n",
    "    if split=='validate':\n",
    "        tf_data_val.extend(load_subdir_data(full_path, IMAGE_SIZE, SEED))\n",
    "    elif split=='train':\n",
    "        tf_data_train.extend(load_subdir_data(full_path, IMAGE_SIZE, SEED))\n",
    "    elif split=='test':\n",
    "        tf_data_test.extend(load_subdir_data(full_path, IMAGE_SIZE, SEED))\n",
    "\n",
    "random.shuffle(tf_data_train)\n",
    "img_list, label_list = zip(*tf_data_train)\n",
    "img_list_t = tf.convert_to_tensor(img_list)\n",
    "lb_list_t = tf.convert_to_tensor(label_list)\n",
    "\n",
    "tf_dataset_train = tf.data.Dataset.from_tensor_slices((img_list_t, lb_list_t))\n",
    "tf_dataset_train = tf_dataset_train.map(load_and_preprocess, num_parallel_calls=tf.data.experimental.AUTOTUNE)\n",
    "tf_dataset_train = tf_dataset_train.shuffle(buffer_size=buffer_size).batch(batch_size)\n",
    "\n",
    "random.shuffle(tf_data_val)\n",
    "img_list, label_list = zip(*tf_data_val)\n",
    "img_list_t = tf.convert_to_tensor(img_list)\n",
    "lb_list_t = tf.convert_to_tensor(label_list)\n",
    "\n",
    "tf_dataset_val = tf.data.Dataset.from_tensor_slices((img_list_t, lb_list_t))\n",
    "tf_dataset_val = tf_dataset_val.map(load_and_preprocess, num_parallel_calls=tf.data.experimental.AUTOTUNE)\n",
    "tf_dataset_val = tf_dataset_val.shuffle(buffer_size=buffer_size).batch(batch_size)\n",
    "\n",
    "random.shuffle(tf_data_test)\n",
    "img_list, label_list = zip(*tf_data_test)\n",
    "img_list_t = tf.convert_to_tensor(img_list)\n",
    "lb_list_t = tf.convert_to_tensor(label_list)\n",
    "\n",
    "tf_dataset_test = tf.data.Dataset.from_tensor_slices((img_list_t, lb_list_t))\n",
    "tf_dataset_test = tf_dataset_test.map(load_and_preprocess, num_parallel_calls=tf.data.experimental.AUTOTUNE)\n",
    "tf_dataset_test = tf_dataset_test.shuffle(buffer_size=buffer_size).batch(batch_size)"
   ]
  },
  {
   "cell_type": "code",
   "execution_count": 6,
   "metadata": {
    "colab": {
     "base_uri": "https://localhost:8080/"
    },
    "id": "n3QQhztLHo6P",
    "outputId": "fc7fca8c-3831-4926-c1fb-ea07f3b13851"
   },
   "outputs": [
    {
     "data": {
      "text/plain": [
       "928"
      ]
     },
     "execution_count": 6,
     "metadata": {},
     "output_type": "execute_result"
    }
   ],
   "source": [
    "len(tf_dataset_train)"
   ]
  },
  {
   "cell_type": "markdown",
   "metadata": {
    "id": "-VWgZKeVumDm"
   },
   "source": [
    "## 1. c) Training CNN + MLP\n",
    "\n",
    "##1. c) i) Image augmentation"
   ]
  },
  {
   "cell_type": "code",
   "execution_count": null,
   "metadata": {
    "id": "J09kg9Usf3lE"
   },
   "outputs": [],
   "source": [
    "img_augmentation = Sequential([\n",
    "        layers.RandomRotation(factor=0.15),\n",
    "        layers.RandomTranslation(height_factor=0.1, width_factor=0.1),\n",
    "        layers.RandomFlip(),\n",
    "        layers.RandomContrast(factor=0.1),\n",
    "        layers.RandomZoom(height_factor=0.1)\n",
    "    ], name=\"img_augmentation\")"
   ]
  },
  {
   "cell_type": "markdown",
   "metadata": {
    "id": "-tmp0fgiu2vm"
   },
   "source": [
    "## 1. c) ii) Train for at least 20 epochs and perform early stopping using the validation set"
   ]
  },
  {
   "cell_type": "code",
   "execution_count": null,
   "metadata": {
    "id": "gXO1o9WLIU__"
   },
   "outputs": [],
   "source": [
    "\n",
    "\n",
    "# Define your model\n",
    "def create_model(input_shape, num_classes):\n",
    "    model = Sequential()\n",
    "\n",
    "#     # Image augmentation\n",
    "    img_augmentation = Sequential([\n",
    "        layers.RandomRotation(factor=0.15),\n",
    "        layers.RandomTranslation(height_factor=0.1, width_factor=0.1),\n",
    "        layers.RandomFlip(),\n",
    "        layers.RandomContrast(factor=0.1),\n",
    "        layers.RandomZoom(height_factor=0.1)\n",
    "    ], name=\"img_augmentation\")\n",
    "\n",
    "    # Add image augmentation as the first layer of the model\n",
    "    model.add(img_augmentation)\n",
    "\n",
    "    # Convolutional layers\n",
    "    model.add(Conv2D(32, (3, 3), activation='relu', input_shape=input_shape, kernel_regularizer=l2(0.01)))\n",
    "    model.add(BatchNormalization())\n",
    "    model.add(MaxPooling2D((2, 2)))\n",
    "    model.add(Dropout(0.3))\n",
    "\n",
    "    model.add(Conv2D(64, (3, 3), activation='relu', kernel_regularizer=l2(0.01)))\n",
    "    model.add(BatchNormalization())\n",
    "    model.add(MaxPooling2D((2, 2)))\n",
    "    model.add(Dropout(0.3))\n",
    "\n",
    "    model.add(Conv2D(128, (3, 3), activation='relu', kernel_regularizer=l2(0.01)))\n",
    "    model.add(BatchNormalization())\n",
    "    model.add(MaxPooling2D((2, 2)))\n",
    "    model.add(Dropout(0.3))\n",
    "\n",
    "    # Global Average Pooling instead of Flatten\n",
    "    model.add(GlobalAveragePooling2D())\n",
    "\n",
    "    # Dense layer\n",
    "    model.add(Dense(256, activation='relu', kernel_regularizer=l2(0.01)))\n",
    "    model.add(BatchNormalization())\n",
    "    model.add(Dropout(0.3))\n",
    "\n",
    "    # Output layer\n",
    "    model.add(Dense(num_classes, activation='softmax'))\n",
    "\n",
    "    return model\n",
    "\n"
   ]
  },
  {
   "cell_type": "code",
   "execution_count": null,
   "metadata": {
    "id": "JBeU9fy5vRtu"
   },
   "outputs": [],
   "source": [
    "input_shape = (299,299,3)\n",
    "num_class = 2"
   ]
  },
  {
   "cell_type": "code",
   "execution_count": null,
   "metadata": {
    "id": "rhAGaVvAIZnN"
   },
   "outputs": [],
   "source": [
    "model = create_model(input_shape, num_class)"
   ]
  },
  {
   "cell_type": "code",
   "execution_count": null,
   "metadata": {
    "id": "tW7mbButIa9r"
   },
   "outputs": [],
   "source": [
    "model.compile(optimizer='adam', loss='sparse_categorical_crossentropy', metrics=['accuracy'])\n",
    "model.build(input_shape=(None, *(input_shape)))"
   ]
  },
  {
   "cell_type": "code",
   "execution_count": null,
   "metadata": {
    "colab": {
     "base_uri": "https://localhost:8080/"
    },
    "id": "T6vNB1bYIcJG",
    "outputId": "2d04a7fb-c50b-42c0-9d8d-ea789e895356"
   },
   "outputs": [
    {
     "name": "stdout",
     "output_type": "stream",
     "text": [
      "Model: \"sequential\"\n",
      "_________________________________________________________________\n",
      " Layer (type)                Output Shape              Param #   \n",
      "=================================================================\n",
      " img_augmentation (Sequenti  (None, 299, 299, 3)       0         \n",
      " al)                                                             \n",
      "                                                                 \n",
      " conv2d (Conv2D)             (None, 297, 297, 32)      896       \n",
      "                                                                 \n",
      " batch_normalization (Batch  (None, 297, 297, 32)      128       \n",
      " Normalization)                                                  \n",
      "                                                                 \n",
      " max_pooling2d (MaxPooling2  (None, 148, 148, 32)      0         \n",
      " D)                                                              \n",
      "                                                                 \n",
      " dropout (Dropout)           (None, 148, 148, 32)      0         \n",
      "                                                                 \n",
      " conv2d_1 (Conv2D)           (None, 146, 146, 64)      18496     \n",
      "                                                                 \n",
      " batch_normalization_1 (Bat  (None, 146, 146, 64)      256       \n",
      " chNormalization)                                                \n",
      "                                                                 \n",
      " max_pooling2d_1 (MaxPoolin  (None, 73, 73, 64)        0         \n",
      " g2D)                                                            \n",
      "                                                                 \n",
      " dropout_1 (Dropout)         (None, 73, 73, 64)        0         \n",
      "                                                                 \n",
      " conv2d_2 (Conv2D)           (None, 71, 71, 128)       73856     \n",
      "                                                                 \n",
      " batch_normalization_2 (Bat  (None, 71, 71, 128)       512       \n",
      " chNormalization)                                                \n",
      "                                                                 \n",
      " max_pooling2d_2 (MaxPoolin  (None, 35, 35, 128)       0         \n",
      " g2D)                                                            \n",
      "                                                                 \n",
      " dropout_2 (Dropout)         (None, 35, 35, 128)       0         \n",
      "                                                                 \n",
      " global_average_pooling2d (  (None, 128)               0         \n",
      " GlobalAveragePooling2D)                                         \n",
      "                                                                 \n",
      " dense (Dense)               (None, 256)               33024     \n",
      "                                                                 \n",
      " batch_normalization_3 (Bat  (None, 256)               1024      \n",
      " chNormalization)                                                \n",
      "                                                                 \n",
      " dropout_3 (Dropout)         (None, 256)               0         \n",
      "                                                                 \n",
      " dense_1 (Dense)             (None, 2)                 514       \n",
      "                                                                 \n",
      "=================================================================\n",
      "Total params: 128706 (502.76 KB)\n",
      "Trainable params: 127746 (499.01 KB)\n",
      "Non-trainable params: 960 (3.75 KB)\n",
      "_________________________________________________________________\n"
     ]
    }
   ],
   "source": [
    "model.summary()"
   ]
  },
  {
   "cell_type": "code",
   "execution_count": null,
   "metadata": {
    "id": "YH5zRvahIdV0"
   },
   "outputs": [],
   "source": [
    "early_stopping = EarlyStopping(monitor='val_loss', patience=10,mode='auto', restore_best_weights=True, start_from_epoch = 20)"
   ]
  },
  {
   "cell_type": "code",
   "execution_count": null,
   "metadata": {
    "colab": {
     "base_uri": "https://localhost:8080/"
    },
    "id": "5Md9Gq_-cw3i",
    "outputId": "cb8fc824-392b-4968-ea87-c03b3ef174ff"
   },
   "outputs": [
    {
     "name": "stdout",
     "output_type": "stream",
     "text": [
      "Epoch 1/80\n",
      "928/928 [==============================] - 330s 345ms/step - loss: 1.4852 - accuracy: 0.6941 - val_loss: 3.1055 - val_accuracy: 0.3218\n",
      "Epoch 2/80\n",
      "928/928 [==============================] - 315s 339ms/step - loss: 0.6338 - accuracy: 0.7606 - val_loss: 0.3398 - val_accuracy: 0.8999\n",
      "Epoch 3/80\n",
      "928/928 [==============================] - 315s 339ms/step - loss: 0.5592 - accuracy: 0.7904 - val_loss: 0.6925 - val_accuracy: 0.8567\n",
      "Epoch 4/80\n",
      "928/928 [==============================] - 315s 339ms/step - loss: 0.5343 - accuracy: 0.8022 - val_loss: 1.2610 - val_accuracy: 0.5341\n",
      "Epoch 5/80\n",
      "928/928 [==============================] - 313s 337ms/step - loss: 0.5053 - accuracy: 0.8127 - val_loss: 3.0079 - val_accuracy: 0.8736\n",
      "Epoch 6/80\n",
      "928/928 [==============================] - 312s 336ms/step - loss: 0.4662 - accuracy: 0.8313 - val_loss: 0.7699 - val_accuracy: 0.6945\n",
      "Epoch 7/80\n",
      "928/928 [==============================] - 312s 336ms/step - loss: 0.4532 - accuracy: 0.8324 - val_loss: 1.7107 - val_accuracy: 0.3407\n",
      "Epoch 8/80\n",
      "928/928 [==============================] - 312s 336ms/step - loss: 0.4117 - accuracy: 0.8539 - val_loss: 2.3590 - val_accuracy: 0.3444\n",
      "Epoch 9/80\n",
      "928/928 [==============================] - 312s 336ms/step - loss: 0.4170 - accuracy: 0.8530 - val_loss: 1.0285 - val_accuracy: 0.5781\n",
      "Epoch 10/80\n",
      "928/928 [==============================] - 311s 335ms/step - loss: 0.3853 - accuracy: 0.8697 - val_loss: 0.4549 - val_accuracy: 0.8535\n",
      "Epoch 11/80\n",
      "928/928 [==============================] - 310s 334ms/step - loss: 0.3629 - accuracy: 0.8816 - val_loss: 0.3228 - val_accuracy: 0.8915\n",
      "Epoch 12/80\n",
      "928/928 [==============================] - 310s 333ms/step - loss: 0.3362 - accuracy: 0.8922 - val_loss: 0.8925 - val_accuracy: 0.7383\n",
      "Epoch 13/80\n",
      "928/928 [==============================] - 309s 333ms/step - loss: 0.3344 - accuracy: 0.8942 - val_loss: 0.9577 - val_accuracy: 0.7141\n",
      "Epoch 14/80\n",
      "928/928 [==============================] - 309s 333ms/step - loss: 0.3258 - accuracy: 0.8983 - val_loss: 0.5042 - val_accuracy: 0.8532\n",
      "Epoch 15/80\n",
      "928/928 [==============================] - 309s 333ms/step - loss: 0.3206 - accuracy: 0.8986 - val_loss: 0.3803 - val_accuracy: 0.8806\n",
      "Epoch 16/80\n",
      "928/928 [==============================] - 308s 332ms/step - loss: 0.3143 - accuracy: 0.8997 - val_loss: 2.0582 - val_accuracy: 0.5367\n",
      "Epoch 17/80\n",
      "928/928 [==============================] - 309s 333ms/step - loss: 0.3184 - accuracy: 0.8992 - val_loss: 0.4648 - val_accuracy: 0.8705\n",
      "Epoch 18/80\n",
      "928/928 [==============================] - 309s 332ms/step - loss: 0.3084 - accuracy: 0.9046 - val_loss: 1.9921 - val_accuracy: 0.5351\n",
      "Epoch 19/80\n",
      "928/928 [==============================] - 308s 332ms/step - loss: 0.3076 - accuracy: 0.9054 - val_loss: 0.9332 - val_accuracy: 0.6741\n",
      "Epoch 20/80\n",
      "928/928 [==============================] - 308s 332ms/step - loss: 0.3137 - accuracy: 0.9039 - val_loss: 0.2362 - val_accuracy: 0.9334\n",
      "Epoch 21/80\n",
      "928/928 [==============================] - 308s 332ms/step - loss: 0.3015 - accuracy: 0.9065 - val_loss: 1.4160 - val_accuracy: 0.5678\n",
      "Epoch 22/80\n",
      "928/928 [==============================] - 308s 332ms/step - loss: 0.3053 - accuracy: 0.9044 - val_loss: 0.7683 - val_accuracy: 0.7047\n",
      "Epoch 23/80\n",
      "928/928 [==============================] - 308s 331ms/step - loss: 0.3231 - accuracy: 0.8964 - val_loss: 3.2761 - val_accuracy: 0.3461\n",
      "Epoch 24/80\n",
      "928/928 [==============================] - 307s 330ms/step - loss: 0.3207 - accuracy: 0.8998 - val_loss: 1.0374 - val_accuracy: 0.6640\n",
      "Epoch 25/80\n",
      "928/928 [==============================] - 307s 331ms/step - loss: 0.3053 - accuracy: 0.9029 - val_loss: 0.5057 - val_accuracy: 0.8377\n",
      "Epoch 26/80\n",
      "928/928 [==============================] - 307s 331ms/step - loss: 0.3067 - accuracy: 0.9038 - val_loss: 1.0294 - val_accuracy: 0.6634\n",
      "Epoch 27/80\n",
      "928/928 [==============================] - 307s 331ms/step - loss: 0.3076 - accuracy: 0.9007 - val_loss: 1.8688 - val_accuracy: 0.5758\n",
      "Epoch 28/80\n",
      "928/928 [==============================] - 307s 331ms/step - loss: 0.2938 - accuracy: 0.9077 - val_loss: 0.6519 - val_accuracy: 0.7679\n",
      "Epoch 29/80\n",
      "928/928 [==============================] - 307s 331ms/step - loss: 0.2988 - accuracy: 0.9057 - val_loss: 0.4883 - val_accuracy: 0.8437\n",
      "Epoch 30/80\n",
      "928/928 [==============================] - 307s 331ms/step - loss: 0.2992 - accuracy: 0.9069 - val_loss: 0.6400 - val_accuracy: 0.7656\n",
      "Epoch 31/80\n",
      "928/928 [==============================] - 307s 331ms/step - loss: 0.2984 - accuracy: 0.9059 - val_loss: 0.6297 - val_accuracy: 0.8015\n",
      "Epoch 32/80\n",
      "928/928 [==============================] - 307s 331ms/step - loss: 0.2972 - accuracy: 0.9076 - val_loss: 0.4664 - val_accuracy: 0.8576\n",
      "Epoch 33/80\n",
      "928/928 [==============================] - 307s 331ms/step - loss: 0.2926 - accuracy: 0.9094 - val_loss: 0.9630 - val_accuracy: 0.6818\n",
      "Epoch 34/80\n",
      "928/928 [==============================] - 307s 331ms/step - loss: 0.3003 - accuracy: 0.9055 - val_loss: 0.9974 - val_accuracy: 0.6842\n",
      "Epoch 35/80\n",
      "928/928 [==============================] - 307s 330ms/step - loss: 0.2967 - accuracy: 0.9078 - val_loss: 1.0206 - val_accuracy: 0.6515\n",
      "Epoch 36/80\n",
      "928/928 [==============================] - 307s 331ms/step - loss: 0.2966 - accuracy: 0.9090 - val_loss: 2.3894 - val_accuracy: 0.4458\n",
      "Epoch 37/80\n",
      "928/928 [==============================] - 307s 331ms/step - loss: 0.2968 - accuracy: 0.9047 - val_loss: 1.5302 - val_accuracy: 0.4848\n",
      "Epoch 38/80\n",
      "928/928 [==============================] - 307s 330ms/step - loss: 0.2949 - accuracy: 0.9077 - val_loss: 1.2189 - val_accuracy: 0.5747\n",
      "Epoch 39/80\n",
      "928/928 [==============================] - 307s 330ms/step - loss: 0.2913 - accuracy: 0.9087 - val_loss: 0.3532 - val_accuracy: 0.9199\n",
      "Epoch 40/80\n",
      "928/928 [==============================] - 307s 330ms/step - loss: 0.2939 - accuracy: 0.9088 - val_loss: 0.8406 - val_accuracy: 0.7095\n",
      "Epoch 41/80\n",
      "928/928 [==============================] - 307s 330ms/step - loss: 0.2917 - accuracy: 0.9071 - val_loss: 1.2488 - val_accuracy: 0.5883\n",
      "Epoch 42/80\n",
      "928/928 [==============================] - 307s 330ms/step - loss: 0.2870 - accuracy: 0.9120 - val_loss: 2.7722 - val_accuracy: 0.3912\n",
      "Epoch 43/80\n",
      "928/928 [==============================] - 307s 330ms/step - loss: 0.2849 - accuracy: 0.9122 - val_loss: 0.5851 - val_accuracy: 0.7980\n",
      "Epoch 44/80\n",
      "928/928 [==============================] - 308s 331ms/step - loss: 0.2933 - accuracy: 0.9095 - val_loss: 1.2396 - val_accuracy: 0.6202\n",
      "Epoch 45/80\n",
      "928/928 [==============================] - 306s 330ms/step - loss: 0.2877 - accuracy: 0.9110 - val_loss: 1.0296 - val_accuracy: 0.6916\n",
      "Epoch 46/80\n",
      "928/928 [==============================] - 307s 330ms/step - loss: 0.2883 - accuracy: 0.9099 - val_loss: 0.8380 - val_accuracy: 0.7029\n",
      "Epoch 47/80\n",
      "928/928 [==============================] - 306s 330ms/step - loss: 0.2882 - accuracy: 0.9094 - val_loss: 1.1623 - val_accuracy: 0.6076\n",
      "Epoch 48/80\n",
      "928/928 [==============================] - 306s 330ms/step - loss: 0.2949 - accuracy: 0.9088 - val_loss: 1.7641 - val_accuracy: 0.5037\n",
      "Epoch 49/80\n",
      "928/928 [==============================] - 306s 330ms/step - loss: 0.2913 - accuracy: 0.9090 - val_loss: 0.9556 - val_accuracy: 0.7233\n"
     ]
    }
   ],
   "source": [
    "#recent\n",
    "cnn_history = model.fit(tf_dataset_train, epochs=80, validation_data=tf_dataset_val, callbacks=[early_stopping])\n"
   ]
  },
  {
   "cell_type": "markdown",
   "metadata": {
    "id": "ifu8mD8lvHtk"
   },
   "source": [
    "## Plot the training and validation errors vs. epochs."
   ]
  },
  {
   "cell_type": "code",
   "execution_count": null,
   "metadata": {
    "colab": {
     "base_uri": "https://localhost:8080/",
     "height": 472
    },
    "id": "f8Q3o45QiwTd",
    "outputId": "3593ec8d-c357-470d-83e4-31f4b9f3b037"
   },
   "outputs": [
    {
     "data": {
      "image/png": "[encoded data removed]",
      "text/plain": [
       "<Figure size 640x480 with 1 Axes>"
      ]
     },
     "metadata": {},
     "output_type": "display_data"
    }
   ],
   "source": [
    "training_errors = [1 - acc for acc in cnn_history.history['accuracy']]\n",
    "validation_errors = [1 - acc for acc in cnn_history.history['val_accuracy']]\n",
    "plt.plot(training_errors, label='Training Error')\n",
    "plt.plot(validation_errors, label='Validation Error')\n",
    "plt.xlabel('Epochs')\n",
    "plt.ylabel('Error')\n",
    "plt.title('CNN + MLP')\n",
    "plt.legend()\n",
    "plt.show()"
   ]
  },
  {
   "cell_type": "markdown",
   "metadata": {
    "id": "0umTkOOPvBUu"
   },
   "source": [
    "## 1. c) iii) Report Precision, Recall, and F1 score for your model."
   ]
  },
  {
   "cell_type": "markdown",
   "metadata": {
    "id": "bsrM5liG0bwc"
   },
   "source": [
    "Test DataSet"
   ]
  },
  {
   "cell_type": "code",
   "execution_count": 9,
   "metadata": {
    "colab": {
     "base_uri": "https://localhost:8080/"
    },
    "id": "Mof18oySqFJa",
    "outputId": "c7e58b7a-bf98-4804-cf8c-0b26b19a95e3"
   },
   "outputs": [
    {
     "name": "stdout",
     "output_type": "stream",
     "text": [
      "401/401 [==============================] - 375s 911ms/step\n",
      "CNN + MLP for Test DataSet\n",
      "F1-Score: 0.68\n",
      "Precision: 0.66\n",
      "Recall: 0.69\n",
      "Accuracy: 0.56\n"
     ]
    }
   ],
   "source": [
    "y_pred = model.predict(tf_dataset_test)\n",
    "y_pred_labels = np.argmax(y_pred, axis=1)\n",
    "y_true = np.concatenate([y.numpy() for _, y in tf_dataset_test])\n",
    "f1_cnn = f1_score(y_true, y_pred_labels)\n",
    "p_cnn = precision_score(y_true, y_pred_labels)\n",
    "r_cnn = recall_score(y_true, y_pred_labels)\n",
    "a_cnn = accuracy_score(y_true, y_pred_labels)\n",
    "print(\"CNN + MLP for Test DataSet\")\n",
    "print(f\"F1-Score: {f1_cnn:.2f}\")\n",
    "print(f\"Precision: {p_cnn:.2f}\")\n",
    "print(f\"Recall: {r_cnn:.2f}\")\n",
    "print(f\"Accuracy: {a_cnn:.2f}\")"
   ]
  },
  {
   "cell_type": "markdown",
   "metadata": {
    "id": "c2tbtKLU0fZi"
   },
   "source": [
    "Train DataSet"
   ]
  },
  {
   "cell_type": "code",
   "execution_count": 11,
   "metadata": {
    "colab": {
     "base_uri": "https://localhost:8080/"
    },
    "id": "hBg01rLeqd7A",
    "outputId": "8db2187c-abef-41a6-e50b-7349a9643a4c"
   },
   "outputs": [
    {
     "name": "stdout",
     "output_type": "stream",
     "text": [
      "928/928 [==============================] - 117s 126ms/step\n",
      "CNN + MLP for Train DataSet\n",
      "F1-Score: 0.63\n",
      "Precision: 0.59\n",
      "Recall: 0.68\n",
      "Accuracy: 0.53\n"
     ]
    }
   ],
   "source": [
    "y_pred = model.predict(tf_dataset_train)\n",
    "y_pred_labels = np.argmax(y_pred, axis=1)\n",
    "y_true = np.concatenate([y.numpy() for _, y in tf_dataset_train])\n",
    "f1_cnn = f1_score(y_true, y_pred_labels)\n",
    "p_cnn = precision_score(y_true, y_pred_labels)\n",
    "r_cnn = recall_score(y_true, y_pred_labels)\n",
    "a_cnn = accuracy_score(y_true, y_pred_labels)\n",
    "print(\"CNN + MLP for Train DataSet\")\n",
    "print(f\"F1-Score: {f1_cnn:.2f}\")\n",
    "print(f\"Precision: {p_cnn:.2f}\")\n",
    "print(f\"Recall: {r_cnn:.2f}\")\n",
    "print(f\"Accuracy: {a_cnn:.2f}\")"
   ]
  },
  {
   "cell_type": "markdown",
   "metadata": {
    "id": "OeLeTYSI03IL"
   },
   "source": [
    "Validation DataSet"
   ]
  },
  {
   "cell_type": "code",
   "execution_count": 12,
   "metadata": {
    "colab": {
     "base_uri": "https://localhost:8080/"
    },
    "id": "A9l2ZDToqjXQ",
    "outputId": "2b9a8cc2-cbef-447e-bd51-7500ec76301d"
   },
   "outputs": [
    {
     "name": "stdout",
     "output_type": "stream",
     "text": [
      "353/353 [==============================] - 306s 862ms/step\n",
      "CNN + MLP for Validation DataSet\n",
      "F1-Score: 0.43\n",
      "Precision: 0.32\n",
      "Recall: 0.64\n",
      "Accuracy: 0.44\n"
     ]
    }
   ],
   "source": [
    "y_pred = model.predict(tf_dataset_val)\n",
    "y_pred_labels = np.argmax(y_pred, axis=1)\n",
    "y_true = np.concatenate([y.numpy() for _, y in tf_dataset_val])\n",
    "f1_cnn = f1_score(y_true, y_pred_labels)\n",
    "p_cnn = precision_score(y_true, y_pred_labels)\n",
    "r_cnn = recall_score(y_true, y_pred_labels)\n",
    "a_cnn = accuracy_score(y_true, y_pred_labels)\n",
    "print(\"CNN + MLP for Validation DataSet\")\n",
    "print(f\"F1-Score: {f1_cnn:.2f}\")\n",
    "print(f\"Precision: {p_cnn:.2f}\")\n",
    "print(f\"Recall: {r_cnn:.2f}\")\n",
    "print(f\"Accuracy: {a_cnn:.2f}\")"
   ]
  },
  {
   "cell_type": "markdown",
   "metadata": {
    "id": "1BqYfI4hw2F7"
   },
   "source": [
    "# 1. d) Transfer Learning\n"
   ]
  },
  {
   "cell_type": "markdown",
   "metadata": {
    "id": "i5KLIslpxhpG"
   },
   "source": [
    "## 1. d) i) Using pre-trained models"
   ]
  },
  {
   "cell_type": "markdown",
   "metadata": {
    "id": "4IVU7TtJ5k2H"
   },
   "source": [
    "## **EfficientNetB0**"
   ]
  },
  {
   "cell_type": "code",
   "execution_count": null,
   "metadata": {
    "id": "xEB0QKF64zh0"
   },
   "outputs": [],
   "source": [
    "inputs_eff = layers.Input(shape = input_shape)\n",
    "data_eff = img_augmentation(inputs_eff)\n",
    "eff_net = EfficientNetB0(weights = 'imagenet',\n",
    "                         input_shape = (299, 299, 3),\n",
    "                         include_top = False)\n",
    "eff_net.trainable = False\n"
   ]
  },
  {
   "cell_type": "markdown",
   "metadata": {
    "id": "Ue0mLBPB5lCC"
   },
   "source": [
    "## **ResNet50**"
   ]
  },
  {
   "cell_type": "code",
   "execution_count": null,
   "metadata": {
    "id": "_68Es7zf0omu"
   },
   "outputs": [],
   "source": [
    "inputs_res = layers.Input(shape = input_shape)\n",
    "data_res = img_augmentation(inputs_res)\n",
    "res_net = ResNet50(weights = 'imagenet',\n",
    "                   input_shape = (299, 299, 3),\n",
    "                   include_top = False)\n",
    "res_net.trainable = False"
   ]
  },
  {
   "cell_type": "markdown",
   "metadata": {
    "id": "2GvCCzZIfiP7"
   },
   "source": [
    "## **VGG16**"
   ]
  },
  {
   "cell_type": "code",
   "execution_count": null,
   "metadata": {
    "colab": {
     "base_uri": "https://localhost:8080/"
    },
    "id": "vSylGVXNxFfm",
    "outputId": "a799d849-80ed-4fcf-d0e1-a2e086053d9c"
   },
   "outputs": [
    {
     "name": "stdout",
     "output_type": "stream",
     "text": [
      "Downloading data from https://storage.googleapis.com/tensorflow/keras-applications/vgg16/vgg16_weights_tf_dim_ordering_tf_kernels_notop.h5\n",
      "58889256/58889256 [==============================] - 0s 0us/step\n"
     ]
    }
   ],
   "source": [
    "inputs_vgg = layers.Input(shape = input_shape)\n",
    "data_vgg = img_augmentation(inputs_vgg)\n",
    "vgg_16 = VGG16(weights = 'imagenet',\n",
    "               input_shape = (299, 299, 3),\n",
    "               include_top = False)\n",
    "vgg_16.trainable = False"
   ]
  },
  {
   "cell_type": "markdown",
   "metadata": {
    "id": "2anRD82c1TZS"
   },
   "source": [
    "## 1. d) ii)\n",
    "Image augmentation which I already defined earlier, the same code is being used agaun and again\n",
    "\n",
    "## 1. d) iii)  ReLU activation functions in the last layer + a softmax layer + batch normalization + dropout rate of 30% + ADAM optimizer. Use cross entropy loss."
   ]
  },
  {
   "cell_type": "markdown",
   "metadata": {
    "id": "zYdnQIEy6ZLe"
   },
   "source": [
    "## **EfficientNetB0**"
   ]
  },
  {
   "cell_type": "code",
   "execution_count": null,
   "metadata": {
    "colab": {
     "base_uri": "https://localhost:8080/"
    },
    "id": "BxwF8TBzyYN3",
    "outputId": "42c85929-3c7a-4f74-9177-81221c922a7e"
   },
   "outputs": [
    {
     "name": "stdout",
     "output_type": "stream",
     "text": [
      "Model: \"model_13\"\n",
      "_________________________________________________________________\n",
      " Layer (type)                Output Shape              Param #   \n",
      "=================================================================\n",
      " input_13 (InputLayer)       [(None, 299, 299, 3)]     0         \n",
      "                                                                 \n",
      " img_augmentation (Sequenti  (None, 299, 299, 3)       0         \n",
      " al)                                                             \n",
      "                                                                 \n",
      " model_12 (Functional)       (None, 10, 10, 1280)      4049571   \n",
      "                                                                 \n",
      " avg_pool (GlobalAveragePoo  (None, 1280)              0         \n",
      " ling2D)                                                         \n",
      "                                                                 \n",
      " activation_6 (Activation)   (None, 1280)              0         \n",
      "                                                                 \n",
      " batch_normalization_6 (Bat  (None, 1280)              5120      \n",
      " chNormalization)                                                \n",
      "                                                                 \n",
      " dropout_6 (Dropout)         (None, 1280)              0         \n",
      "                                                                 \n",
      " dense_6 (Dense)             (None, 2)                 2562      \n",
      "                                                                 \n",
      "=================================================================\n",
      "Total params: 4057253 (15.48 MB)\n",
      "Trainable params: 5122 (20.01 KB)\n",
      "Non-trainable params: 4052131 (15.46 MB)\n",
      "_________________________________________________________________\n"
     ]
    }
   ],
   "source": [
    "# image_shape = (299,299,3)\n",
    "\n",
    "inputs_eff = Input(shape=(299, 299, 3))\n",
    "data_eff = img_augmentation(inputs_eff)\n",
    "\n",
    "input_eff = eff_net.layers[0].input\n",
    "output_eff = eff_net.layers[-2].output\n",
    "\n",
    "output_dropout_rate = 0.3\n",
    "\n",
    "\n",
    "data_eff = Model(inputs = input_eff, outputs = output_eff)(data_eff)\n",
    "data_eff = layers.GlobalAveragePooling2D(name = \"avg_pool\")(data_eff)\n",
    "\n",
    "data_eff = layers.Activation(\"relu\")(data_eff)\n",
    "data_eff = layers.BatchNormalization()(data_eff)\n",
    "y_eff = layers.Dropout(output_dropout_rate)(data_eff)\n",
    "outputs_eff = layers.Dense(num_class, activation = \"softmax\")(y_eff)\n",
    "eff_net_model = Model(inputs_eff, outputs=outputs_eff)\n",
    "eff_net_model.summary()\n"
   ]
  },
  {
   "cell_type": "markdown",
   "metadata": {
    "id": "HVa4xbL66ZR5"
   },
   "source": [
    "## **ResNet50**"
   ]
  },
  {
   "cell_type": "code",
   "execution_count": null,
   "metadata": {
    "colab": {
     "base_uri": "https://localhost:8080/"
    },
    "id": "kMUoMjfD0ot1",
    "outputId": "5cfa06cb-f726-4e49-a9e3-e1eb1bdb0973"
   },
   "outputs": [
    {
     "name": "stdout",
     "output_type": "stream",
     "text": [
      "Model: \"model_19\"\n",
      "_________________________________________________________________\n",
      " Layer (type)                Output Shape              Param #   \n",
      "=================================================================\n",
      " input_18 (InputLayer)       [(None, 299, 299, 3)]     0         \n",
      "                                                                 \n",
      " img_augmentation (Sequenti  (None, 299, 299, 3)       0         \n",
      " al)                                                             \n",
      "                                                                 \n",
      " model_18 (Functional)       (None, 10, 10, 2048)      23587712  \n",
      "                                                                 \n",
      " avg_pool (GlobalAveragePoo  (None, 2048)              0         \n",
      " ling2D)                                                         \n",
      "                                                                 \n",
      " activation_9 (Activation)   (None, 2048)              0         \n",
      "                                                                 \n",
      " batch_normalization_9 (Bat  (None, 2048)              8192      \n",
      " chNormalization)                                                \n",
      "                                                                 \n",
      " dropout_9 (Dropout)         (None, 2048)              0         \n",
      "                                                                 \n",
      " dense_9 (Dense)             (None, 2)                 4098      \n",
      "                                                                 \n",
      "=================================================================\n",
      "Total params: 23600002 (90.03 MB)\n",
      "Trainable params: 8194 (32.01 KB)\n",
      "Non-trainable params: 23591808 (90.00 MB)\n",
      "_________________________________________________________________\n"
     ]
    }
   ],
   "source": [
    "# image_shape = (299,299,3)\n",
    "\n",
    "inputs_res = Input(shape=(299, 299, 3))\n",
    "data_res = img_augmentation(inputs_res)\n",
    "\n",
    "input_res = res_net.layers[0].input\n",
    "output_res = res_net.layers[-2].output\n",
    "\n",
    "output_dropout_rate = 0.3\n",
    "data_res = Model(inputs = input_res, outputs = output_res)(data_res)\n",
    "data_res = layers.GlobalAveragePooling2D(name = \"avg_pool\")(data_res)\n",
    "data_res = layers.Activation(\"relu\")(data_res)\n",
    "data_res = layers.BatchNormalization()(data_res)\n",
    "y_res = layers.Dropout(output_dropout_rate)(data_res)\n",
    "outputs_res = layers.Dense(num_class, activation = \"softmax\")(y_res)\n",
    "res_net_model = Model(inputs_res, outputs=outputs_res)\n",
    "res_net_model.summary()\n"
   ]
  },
  {
   "cell_type": "markdown",
   "metadata": {
    "id": "_TH5MZhK6ZXy"
   },
   "source": [
    "## **VGG16**"
   ]
  },
  {
   "cell_type": "code",
   "execution_count": null,
   "metadata": {
    "id": "QYqPCk4efl36"
   },
   "outputs": [],
   "source": [
    "inputs_vgg = Input(shape=(299, 299, 3))\n",
    "data_vgg = img_augmentation(inputs_vgg)\n",
    "\n",
    "input_vgg = vgg_16.layers[0].input\n",
    "output_vgg = vgg_16.layers[-2].output\n",
    "\n",
    "output_dropout_rate = 0.3\n",
    "data_vgg = Model(inputs = input_vgg, outputs = output_vgg)(data_vgg)\n",
    "data_vgg = layers.GlobalAveragePooling2D(name = \"avg_pool\")(data_vgg)\n",
    "data_vgg = layers.Activation(\"relu\")(data_vgg)\n",
    "data_vgg = layers.BatchNormalization()(data_vgg)\n",
    "y = layers.Dropout(output_dropout_rate)(data_vgg)\n",
    "outputs = layers.Dense(num_class, activation = \"softmax\")(y)"
   ]
  },
  {
   "cell_type": "code",
   "execution_count": null,
   "metadata": {
    "colab": {
     "base_uri": "https://localhost:8080/"
    },
    "id": "hzEFIK8UfvjC",
    "outputId": "7eb52777-5e60-4633-bedf-b975dd938964"
   },
   "outputs": [
    {
     "name": "stdout",
     "output_type": "stream",
     "text": [
      "Model: \"model_21\"\n",
      "_________________________________________________________________\n",
      " Layer (type)                Output Shape              Param #   \n",
      "=================================================================\n",
      " input_21 (InputLayer)       [(None, 299, 299, 3)]     0         \n",
      "                                                                 \n",
      " img_augmentation (Sequenti  (None, 299, 299, 3)       0         \n",
      " al)                                                             \n",
      "                                                                 \n",
      " model_20 (Functional)       (None, 18, 18, 512)       14714688  \n",
      "                                                                 \n",
      " avg_pool (GlobalAveragePoo  (None, 512)               0         \n",
      " ling2D)                                                         \n",
      "                                                                 \n",
      " activation_10 (Activation)  (None, 512)               0         \n",
      "                                                                 \n",
      " batch_normalization_10 (Ba  (None, 512)               2048      \n",
      " tchNormalization)                                               \n",
      "                                                                 \n",
      " dropout_10 (Dropout)        (None, 512)               0         \n",
      "                                                                 \n",
      " dense_10 (Dense)            (None, 2)                 1026      \n",
      "                                                                 \n",
      "=================================================================\n",
      "Total params: 14717762 (56.14 MB)\n",
      "Trainable params: 2050 (8.01 KB)\n",
      "Non-trainable params: 14715712 (56.14 MB)\n",
      "_________________________________________________________________\n"
     ]
    }
   ],
   "source": [
    "vgg_16_model = Model(inputs_vgg, outputs=outputs)\n",
    "vgg_16_model.summary()"
   ]
  },
  {
   "cell_type": "markdown",
   "metadata": {
    "id": "tSP2wmxD4eJs"
   },
   "source": [
    "## 1.d) iv) Train the model"
   ]
  },
  {
   "cell_type": "markdown",
   "metadata": {
    "id": "d91Fv0GV7RVX"
   },
   "source": [
    "## **EfficientNetB0**"
   ]
  },
  {
   "cell_type": "code",
   "execution_count": null,
   "metadata": {
    "id": "m0BKMj4NxlxD",
    "outputId": "7ef29486-5653-4280-809e-c0d99bbb3fdf"
   },
   "outputs": [
    {
     "name": "stderr",
     "output_type": "stream",
     "text": [
      "16:50:57 | WARNING | optimizer       | At this time, the v2.11+ optimizer `tf.keras.optimizers.Adam` runs slowly on M1/M2 Macs, please use the legacy Keras optimizer instead, located at `tf.keras.optimizers.legacy.Adam`.\n"
     ]
    },
    {
     "name": "stdout",
     "output_type": "stream",
     "text": [
      "Epoch 1/20\n",
      "928/928 [==============================] - 623s 668ms/step - loss: 1.1969 - accuracy: 0.5560 - val_loss: 0.6730 - val_accuracy: 0.6782\n",
      "Epoch 2/20\n",
      "928/928 [==============================] - 615s 663ms/step - loss: 0.6858 - accuracy: 0.5861 - val_loss: 0.8542 - val_accuracy: 0.3218\n",
      "Epoch 3/20\n",
      "928/928 [==============================] - 592s 639ms/step - loss: 0.6834 - accuracy: 0.5853 - val_loss: 1.0749 - val_accuracy: 0.3218\n",
      "Epoch 4/20\n",
      "928/928 [==============================] - 598s 644ms/step - loss: 0.6851 - accuracy: 0.5869 - val_loss: 0.9590 - val_accuracy: 0.3218\n",
      "Epoch 5/20\n",
      "928/928 [==============================] - 600s 647ms/step - loss: 0.6836 - accuracy: 0.5870 - val_loss: 0.8099 - val_accuracy: 0.3218\n",
      "Epoch 6/20\n",
      "928/928 [==============================] - 572s 616ms/step - loss: 0.6824 - accuracy: 0.5874 - val_loss: 0.8841 - val_accuracy: 0.3218\n",
      "Epoch 7/20\n",
      "928/928 [==============================] - 597s 643ms/step - loss: 0.6824 - accuracy: 0.5872 - val_loss: 0.6455 - val_accuracy: 0.6782\n",
      "Epoch 8/20\n",
      "928/928 [==============================] - 598s 645ms/step - loss: 0.6811 - accuracy: 0.5875 - val_loss: 0.8861 - val_accuracy: 0.3218\n",
      "Epoch 9/20\n",
      "928/928 [==============================] - 593s 639ms/step - loss: 0.6806 - accuracy: 0.5878 - val_loss: 0.8275 - val_accuracy: 0.3218\n",
      "Epoch 10/20\n",
      "928/928 [==============================] - 600s 646ms/step - loss: 0.6804 - accuracy: 0.5876 - val_loss: 0.6319 - val_accuracy: 0.6782\n",
      "Epoch 11/20\n",
      "928/928 [==============================] - 569s 613ms/step - loss: 0.6808 - accuracy: 0.5880 - val_loss: 0.9892 - val_accuracy: 0.3218\n",
      "Epoch 12/20\n",
      "928/928 [==============================] - 571s 616ms/step - loss: 0.6800 - accuracy: 0.5877 - val_loss: 0.6639 - val_accuracy: 0.6782\n",
      "Epoch 13/20\n",
      "928/928 [==============================] - 590s 635ms/step - loss: 0.6806 - accuracy: 0.5877 - val_loss: 0.7680 - val_accuracy: 0.3218\n",
      "Epoch 14/20\n",
      "928/928 [==============================] - 598s 644ms/step - loss: 0.6803 - accuracy: 0.5878 - val_loss: 0.7602 - val_accuracy: 0.3218\n",
      "Epoch 15/20\n",
      "928/928 [==============================] - 600s 646ms/step - loss: 0.6795 - accuracy: 0.5878 - val_loss: 0.7463 - val_accuracy: 0.3218\n",
      "Epoch 16/20\n",
      "928/928 [==============================] - 601s 648ms/step - loss: 0.6794 - accuracy: 0.5878 - val_loss: 0.7368 - val_accuracy: 0.3218\n",
      "Epoch 17/20\n",
      "928/928 [==============================] - 598s 645ms/step - loss: 0.6798 - accuracy: 0.5877 - val_loss: 0.7699 - val_accuracy: 0.3218\n",
      "Epoch 18/20\n",
      "928/928 [==============================] - 583s 629ms/step - loss: 0.6792 - accuracy: 0.5877 - val_loss: 0.7668 - val_accuracy: 0.3218\n",
      "Epoch 19/20\n",
      "928/928 [==============================] - 592s 638ms/step - loss: 0.6794 - accuracy: 0.5878 - val_loss: 0.7449 - val_accuracy: 0.3218\n",
      "Epoch 20/20\n",
      "928/928 [==============================] - 593s 640ms/step - loss: 0.6790 - accuracy: 0.5878 - val_loss: 0.7495 - val_accuracy: 0.3218\n"
     ]
    }
   ],
   "source": [
    "eff_net_model.compile(optimizer = Adam(learning_rate=0.0001), loss = \"sparse_categorical_crossentropy\", metrics = [\"accuracy\"])\n",
    "\n",
    "early_stopping_eff = tf.keras.callbacks.EarlyStopping(monitor = 'val_loss', patience = 10, mode = 'auto', start_from_epoch = 10)\n",
    "\n",
    "checkpoint_possible_path_eff = '/content/drive/MyDrive/pre_trained_weights/EfficientNetB0_best_weight.hdf5'\n",
    "model_checkpoint_eff = tf.keras.callbacks.ModelCheckpoint(\n",
    "        filepath=checkpoint_possible_path_eff,\n",
    "        monitor='val_accuracy',\n",
    "        save_best_only=True,\n",
    "        save_weights_only=True,\n",
    "        mode='max',\n",
    "        verbose = 1\n",
    "    )\n",
    "\n",
    "hist_training_eff = eff_net_model.fit(tf_dataset_train, epochs = 20, callbacks=[early_stopping_eff, model_checkpoint_eff], validation_data = tf_dataset_val)"
   ]
  },
  {
   "cell_type": "markdown",
   "metadata": {
    "id": "fm1y-yND7RZS"
   },
   "source": [
    "## **ResNet50**"
   ]
  },
  {
   "cell_type": "code",
   "execution_count": null,
   "metadata": {
    "colab": {
     "base_uri": "https://localhost:8080/"
    },
    "id": "Np9qgct82GTu",
    "outputId": "db9d792b-ea1a-4fa3-9879-a016e632efa7"
   },
   "outputs": [
    {
     "name": "stdout",
     "output_type": "stream",
     "text": [
      "Epoch 1/20\n",
      "928/928 [==============================] - ETA: 0s - loss: 0.5832 - accuracy: 0.6827\n",
      "Epoch 1: val_accuracy improved from -inf to 0.49309, saving model to /content/drive/MyDrive/pre_trained_weights/ResNet50_best_weight.hdf5\n",
      "928/928 [==============================] - 341s 362ms/step - loss: 0.5832 - accuracy: 0.6827 - val_loss: 0.7422 - val_accuracy: 0.4931\n",
      "Epoch 2/20\n",
      "928/928 [==============================] - ETA: 0s - loss: 0.5396 - accuracy: 0.7265\n",
      "Epoch 2: val_accuracy did not improve from 0.49309\n",
      "928/928 [==============================] - 333s 358ms/step - loss: 0.5396 - accuracy: 0.7265 - val_loss: 0.7766 - val_accuracy: 0.4914\n",
      "Epoch 3/20\n",
      "928/928 [==============================] - ETA: 0s - loss: 0.5277 - accuracy: 0.7386\n",
      "Epoch 3: val_accuracy improved from 0.49309 to 0.50399, saving model to /content/drive/MyDrive/pre_trained_weights/ResNet50_best_weight.hdf5\n",
      "928/928 [==============================] - 334s 360ms/step - loss: 0.5277 - accuracy: 0.7386 - val_loss: 0.7788 - val_accuracy: 0.5040\n",
      "Epoch 4/20\n",
      "928/928 [==============================] - ETA: 0s - loss: 0.5161 - accuracy: 0.7457\n",
      "Epoch 4: val_accuracy did not improve from 0.50399\n",
      "928/928 [==============================] - 332s 358ms/step - loss: 0.5161 - accuracy: 0.7457 - val_loss: 0.7991 - val_accuracy: 0.5036\n",
      "Epoch 5/20\n",
      "928/928 [==============================] - ETA: 0s - loss: 0.5077 - accuracy: 0.7492\n",
      "Epoch 5: val_accuracy did not improve from 0.50399\n",
      "928/928 [==============================] - 333s 359ms/step - loss: 0.5077 - accuracy: 0.7492 - val_loss: 0.8332 - val_accuracy: 0.4947\n",
      "Epoch 6/20\n",
      "928/928 [==============================] - ETA: 0s - loss: 0.5081 - accuracy: 0.7515\n",
      "Epoch 6: val_accuracy improved from 0.50399 to 0.51329, saving model to /content/drive/MyDrive/pre_trained_weights/ResNet50_best_weight.hdf5\n",
      "928/928 [==============================] - 334s 360ms/step - loss: 0.5081 - accuracy: 0.7515 - val_loss: 0.8145 - val_accuracy: 0.5133\n",
      "Epoch 7/20\n",
      "928/928 [==============================] - ETA: 0s - loss: 0.5027 - accuracy: 0.7558\n",
      "Epoch 7: val_accuracy did not improve from 0.51329\n",
      "928/928 [==============================] - 333s 358ms/step - loss: 0.5027 - accuracy: 0.7558 - val_loss: 0.8327 - val_accuracy: 0.5043\n",
      "Epoch 8/20\n",
      "928/928 [==============================] - ETA: 0s - loss: 0.5017 - accuracy: 0.7574\n",
      "Epoch 8: val_accuracy did not improve from 0.51329\n",
      "928/928 [==============================] - 333s 358ms/step - loss: 0.5017 - accuracy: 0.7574 - val_loss: 0.8403 - val_accuracy: 0.5064\n",
      "Epoch 9/20\n",
      "928/928 [==============================] - ETA: 0s - loss: 0.4981 - accuracy: 0.7573\n",
      "Epoch 9: val_accuracy did not improve from 0.51329\n",
      "928/928 [==============================] - 333s 358ms/step - loss: 0.4981 - accuracy: 0.7573 - val_loss: 0.8436 - val_accuracy: 0.5076\n",
      "Epoch 10/20\n",
      "928/928 [==============================] - ETA: 0s - loss: 0.4950 - accuracy: 0.7626\n",
      "Epoch 10: val_accuracy did not improve from 0.51329\n",
      "928/928 [==============================] - 333s 358ms/step - loss: 0.4950 - accuracy: 0.7626 - val_loss: 0.8506 - val_accuracy: 0.5071\n",
      "Epoch 11/20\n",
      "928/928 [==============================] - ETA: 0s - loss: 0.4966 - accuracy: 0.7595\n",
      "Epoch 11: val_accuracy did not improve from 0.51329\n",
      "928/928 [==============================] - 333s 358ms/step - loss: 0.4966 - accuracy: 0.7595 - val_loss: 0.8844 - val_accuracy: 0.4926\n",
      "Epoch 12/20\n",
      "928/928 [==============================] - ETA: 0s - loss: 0.4947 - accuracy: 0.7605\n",
      "Epoch 12: val_accuracy did not improve from 0.51329\n",
      "928/928 [==============================] - 333s 358ms/step - loss: 0.4947 - accuracy: 0.7605 - val_loss: 0.8687 - val_accuracy: 0.5013\n",
      "Epoch 13/20\n",
      "928/928 [==============================] - ETA: 0s - loss: 0.4906 - accuracy: 0.7644\n",
      "Epoch 13: val_accuracy did not improve from 0.51329\n",
      "928/928 [==============================] - 333s 358ms/step - loss: 0.4906 - accuracy: 0.7644 - val_loss: 0.8717 - val_accuracy: 0.5054\n",
      "Epoch 14/20\n",
      "928/928 [==============================] - ETA: 0s - loss: 0.4861 - accuracy: 0.7686\n",
      "Epoch 14: val_accuracy did not improve from 0.51329\n",
      "928/928 [==============================] - 333s 359ms/step - loss: 0.4861 - accuracy: 0.7686 - val_loss: 0.8722 - val_accuracy: 0.5121\n",
      "Epoch 15/20\n",
      "928/928 [==============================] - ETA: 0s - loss: 0.4887 - accuracy: 0.7682\n",
      "Epoch 15: val_accuracy did not improve from 0.51329\n",
      "928/928 [==============================] - 332s 358ms/step - loss: 0.4887 - accuracy: 0.7682 - val_loss: 0.8886 - val_accuracy: 0.4995\n",
      "Epoch 16/20\n",
      "928/928 [==============================] - ETA: 0s - loss: 0.4885 - accuracy: 0.7677\n",
      "Epoch 16: val_accuracy did not improve from 0.51329\n",
      "928/928 [==============================] - 333s 358ms/step - loss: 0.4885 - accuracy: 0.7677 - val_loss: 0.8697 - val_accuracy: 0.5130\n",
      "Epoch 17/20\n",
      "928/928 [==============================] - ETA: 0s - loss: 0.4882 - accuracy: 0.7672\n",
      "Epoch 17: val_accuracy improved from 0.51329 to 0.51595, saving model to /content/drive/MyDrive/pre_trained_weights/ResNet50_best_weight.hdf5\n",
      "928/928 [==============================] - 334s 360ms/step - loss: 0.4882 - accuracy: 0.7672 - val_loss: 0.8714 - val_accuracy: 0.5159\n"
     ]
    }
   ],
   "source": [
    "res_net_model.compile(optimizer = Adam(learning_rate=0.0001), loss = \"sparse_categorical_crossentropy\", metrics = [\"accuracy\"])\n",
    "early_stopping_res = tf.keras.callbacks.EarlyStopping(monitor = 'val_loss', patience = 5, mode = 'auto', start_from_epoch = 10)\n",
    "checkpoint_possible_path_res = '/content/drive/MyDrive/pre_trained_weights/ResNet50_best_weight.hdf5'\n",
    "model_checkpoint_res = tf.keras.callbacks.ModelCheckpoint(\n",
    "        filepath=checkpoint_possible_path_res,\n",
    "        monitor='val_accuracy',\n",
    "        save_best_only=True,\n",
    "        save_weights_only=True,\n",
    "        mode='max',\n",
    "        verbose = 1\n",
    "    )\n",
    "hist_training_res = res_net_model.fit(\n",
    "    tf_dataset_train,\n",
    "    batch_size=8,\n",
    "    epochs=20,\n",
    "    validation_data=tf_dataset_val,\n",
    "    callbacks=[early_stopping_res, model_checkpoint_res]\n",
    ")\n"
   ]
  },
  {
   "cell_type": "markdown",
   "metadata": {
    "id": "6215jm-J7Rdm"
   },
   "source": [
    "## **VGG16**"
   ]
  },
  {
   "cell_type": "code",
   "execution_count": null,
   "metadata": {
    "id": "F5evgH42fyBY"
   },
   "outputs": [],
   "source": [
    "vgg_16_model.compile(optimizer=Adam(learning_rate=0.0001), loss=\"sparse_categorical_crossentropy\", metrics=['accuracy'])\n",
    "early_stopping_vgg = tf.keras.callbacks.EarlyStopping(monitor='val_accuracy', patience=50, verbose = 1)\n",
    "checkpoint_possible_path_vgg = '/content/drive/MyDrive/pre_trained_weights/VGG16_best_weight.hdf5'\n",
    "model_checkpoint_vgg = tf.keras.callbacks.ModelCheckpoint(\n",
    "        filepath=checkpoint_possible_path_vgg,\n",
    "        monitor='val_accuracy',\n",
    "        save_best_only=True,\n",
    "        save_weights_only=True,\n",
    "        mode='max',\n",
    "        verbose = 1\n",
    "    )\n"
   ]
  },
  {
   "cell_type": "code",
   "execution_count": null,
   "metadata": {
    "colab": {
     "base_uri": "https://localhost:8080/"
    },
    "id": "2sRsrU_1gDLo",
    "outputId": "2322ca70-c888-4115-9d56-2f36fbbe60a6",
    "scrolled": false
   },
   "outputs": [
    {
     "name": "stdout",
     "output_type": "stream",
     "text": [
      "Epoch 1/40\n",
      "928/928 [==============================] - ETA: 0s - loss: 0.6033 - accuracy: 0.6565\n",
      "Epoch 1: val_accuracy improved from -inf to 0.56557, saving model to /content/drive/MyDrive/new_eve_trial2/vgg_model_checkpoint.h5py\n",
      "928/928 [==============================] - 224s 237ms/step - loss: 0.6033 - accuracy: 0.6565 - val_loss: 0.7274 - val_accuracy: 0.5656\n",
      "Epoch 2/40\n",
      "927/928 [============================>.] - ETA: 0s - loss: 0.5149 - accuracy: 0.7437\n",
      "Epoch 2: val_accuracy improved from 0.56557 to 0.58054, saving model to /content/drive/MyDrive/new_eve_trial2/vgg_model_checkpoint.h5py\n",
      "928/928 [==============================] - 218s 235ms/step - loss: 0.5149 - accuracy: 0.7438 - val_loss: 0.7562 - val_accuracy: 0.5805\n",
      "Epoch 3/40\n",
      "927/928 [============================>.] - ETA: 0s - loss: 0.4830 - accuracy: 0.7638\n",
      "Epoch 3: val_accuracy improved from 0.58054 to 0.59623, saving model to /content/drive/MyDrive/new_eve_trial2/vgg_model_checkpoint.h5py\n",
      "928/928 [==============================] - 219s 235ms/step - loss: 0.4830 - accuracy: 0.7637 - val_loss: 0.7558 - val_accuracy: 0.5962\n",
      "Epoch 4/40\n",
      "927/928 [============================>.] - ETA: 0s - loss: 0.4606 - accuracy: 0.7770\n",
      "Epoch 4: val_accuracy improved from 0.59623 to 0.62493, saving model to /content/drive/MyDrive/new_eve_trial2/vgg_model_checkpoint.h5py\n",
      "928/928 [==============================] - 218s 235ms/step - loss: 0.4606 - accuracy: 0.7770 - val_loss: 0.7250 - val_accuracy: 0.6249\n",
      "Epoch 5/40\n",
      "927/928 [============================>.] - ETA: 0s - loss: 0.4539 - accuracy: 0.7805\n",
      "Epoch 5: val_accuracy improved from 0.62493 to 0.63495, saving model to /content/drive/MyDrive/new_eve_trial2/vgg_model_checkpoint.h5py\n",
      "928/928 [==============================] - 219s 235ms/step - loss: 0.4539 - accuracy: 0.7805 - val_loss: 0.7259 - val_accuracy: 0.6349\n",
      "Epoch 6/40\n",
      "927/928 [============================>.] - ETA: 0s - loss: 0.4408 - accuracy: 0.7882\n",
      "Epoch 6: val_accuracy improved from 0.63495 to 0.64708, saving model to /content/drive/MyDrive/new_eve_trial2/vgg_model_checkpoint.h5py\n",
      "928/928 [==============================] - 219s 236ms/step - loss: 0.4408 - accuracy: 0.7882 - val_loss: 0.7209 - val_accuracy: 0.6471\n",
      "Epoch 7/40\n",
      "927/928 [============================>.] - ETA: 0s - loss: 0.4371 - accuracy: 0.7896\n",
      "Epoch 7: val_accuracy improved from 0.64708 to 0.64974, saving model to /content/drive/MyDrive/new_eve_trial2/vgg_model_checkpoint.h5py\n",
      "928/928 [==============================] - 217s 233ms/step - loss: 0.4371 - accuracy: 0.7896 - val_loss: 0.7313 - val_accuracy: 0.6497\n",
      "Epoch 8/40\n",
      "927/928 [============================>.] - ETA: 0s - loss: 0.4308 - accuracy: 0.7891\n",
      "Epoch 8: val_accuracy improved from 0.64974 to 0.65541, saving model to /content/drive/MyDrive/new_eve_trial2/vgg_model_checkpoint.h5py\n",
      "928/928 [==============================] - 215s 232ms/step - loss: 0.4307 - accuracy: 0.7892 - val_loss: 0.7277 - val_accuracy: 0.6554\n",
      "Epoch 9/40\n",
      "927/928 [============================>.] - ETA: 0s - loss: 0.4285 - accuracy: 0.7944\n",
      "Epoch 9: val_accuracy improved from 0.65541 to 0.65683, saving model to /content/drive/MyDrive/new_eve_trial2/vgg_model_checkpoint.h5py\n",
      "928/928 [==============================] - 217s 233ms/step - loss: 0.4286 - accuracy: 0.7944 - val_loss: 0.7300 - val_accuracy: 0.6568\n",
      "Epoch 10/40\n",
      "927/928 [============================>.] - ETA: 0s - loss: 0.4255 - accuracy: 0.7948\n",
      "Epoch 10: val_accuracy did not improve from 0.65683\n",
      "928/928 [==============================] - 216s 233ms/step - loss: 0.4255 - accuracy: 0.7947 - val_loss: 0.7358 - val_accuracy: 0.6527\n",
      "Epoch 11/40\n",
      "927/928 [============================>.] - ETA: 0s - loss: 0.4257 - accuracy: 0.7942\n",
      "Epoch 11: val_accuracy did not improve from 0.65683\n",
      "928/928 [==============================] - 217s 233ms/step - loss: 0.4256 - accuracy: 0.7942 - val_loss: 0.7389 - val_accuracy: 0.6513\n",
      "Epoch 12/40\n",
      "928/928 [==============================] - ETA: 0s - loss: 0.4217 - accuracy: 0.7961\n",
      "Epoch 12: val_accuracy did not improve from 0.65683\n",
      "928/928 [==============================] - 220s 237ms/step - loss: 0.4217 - accuracy: 0.7961 - val_loss: 0.7299 - val_accuracy: 0.6549\n",
      "Epoch 13/40\n",
      "927/928 [============================>.] - ETA: 0s - loss: 0.4175 - accuracy: 0.7986\n",
      "Epoch 13: val_accuracy did not improve from 0.65683\n",
      "928/928 [==============================] - 219s 236ms/step - loss: 0.4174 - accuracy: 0.7987 - val_loss: 0.7536 - val_accuracy: 0.6488\n",
      "Epoch 14/40\n",
      "927/928 [============================>.] - ETA: 0s - loss: 0.4214 - accuracy: 0.7945\n",
      "Epoch 14: val_accuracy did not improve from 0.65683\n",
      "928/928 [==============================] - 220s 237ms/step - loss: 0.4215 - accuracy: 0.7943 - val_loss: 0.7653 - val_accuracy: 0.6404\n",
      "Epoch 15/40\n",
      "927/928 [============================>.] - ETA: 0s - loss: 0.4168 - accuracy: 0.7976\n",
      "Epoch 15: val_accuracy did not improve from 0.65683\n",
      "928/928 [==============================] - 220s 237ms/step - loss: 0.4168 - accuracy: 0.7975 - val_loss: 0.7742 - val_accuracy: 0.6412\n",
      "Epoch 16/40\n",
      "928/928 [==============================] - ETA: 0s - loss: 0.4185 - accuracy: 0.7997\n",
      "Epoch 16: val_accuracy did not improve from 0.65683\n",
      "928/928 [==============================] - 221s 238ms/step - loss: 0.4185 - accuracy: 0.7997 - val_loss: 0.7401 - val_accuracy: 0.6524\n",
      "Epoch 17/40\n",
      "927/928 [============================>.] - ETA: 0s - loss: 0.4144 - accuracy: 0.8002\n",
      "Epoch 17: val_accuracy improved from 0.65683 to 0.65781, saving model to /content/drive/MyDrive/new_eve_trial2/vgg_model_checkpoint.h5py\n",
      "928/928 [==============================] - 221s 238ms/step - loss: 0.4143 - accuracy: 0.8002 - val_loss: 0.7325 - val_accuracy: 0.6578\n",
      "Epoch 18/40\n",
      "928/928 [==============================] - ETA: 0s - loss: 0.4169 - accuracy: 0.7940\n",
      "Epoch 18: val_accuracy did not improve from 0.65781\n",
      "928/928 [==============================] - 219s 236ms/step - loss: 0.4169 - accuracy: 0.7940 - val_loss: 0.7443 - val_accuracy: 0.6520\n",
      "Epoch 19/40\n",
      "928/928 [==============================] - ETA: 0s - loss: 0.4115 - accuracy: 0.7992\n",
      "Epoch 19: val_accuracy did not improve from 0.65781\n",
      "928/928 [==============================] - 220s 237ms/step - loss: 0.4115 - accuracy: 0.7992 - val_loss: 0.7654 - val_accuracy: 0.6449\n",
      "Epoch 20/40\n",
      "927/928 [============================>.] - ETA: 0s - loss: 0.4156 - accuracy: 0.7958\n",
      "Epoch 20: val_accuracy did not improve from 0.65781\n",
      "928/928 [==============================] - 220s 237ms/step - loss: 0.4156 - accuracy: 0.7958 - val_loss: 0.7455 - val_accuracy: 0.6489\n",
      "Epoch 21/40\n",
      "927/928 [============================>.] - ETA: 0s - loss: 0.4146 - accuracy: 0.7985\n",
      "Epoch 21: val_accuracy did not improve from 0.65781\n",
      "928/928 [==============================] - 220s 236ms/step - loss: 0.4147 - accuracy: 0.7984 - val_loss: 0.7440 - val_accuracy: 0.6518\n",
      "Epoch 22/40\n",
      "927/928 [============================>.] - ETA: 0s - loss: 0.4068 - accuracy: 0.8036\n",
      "Epoch 22: val_accuracy did not improve from 0.65781\n",
      "928/928 [==============================] - 219s 236ms/step - loss: 0.4067 - accuracy: 0.8035 - val_loss: 0.7417 - val_accuracy: 0.6549\n",
      "Epoch 23/40\n",
      "927/928 [============================>.] - ETA: 0s - loss: 0.4073 - accuracy: 0.8010\n",
      "Epoch 23: val_accuracy did not improve from 0.65781\n",
      "928/928 [==============================] - 220s 236ms/step - loss: 0.4074 - accuracy: 0.8010 - val_loss: 0.7504 - val_accuracy: 0.6513\n",
      "Epoch 24/40\n",
      "928/928 [==============================] - ETA: 0s - loss: 0.4123 - accuracy: 0.7969\n",
      "Epoch 24: val_accuracy did not improve from 0.65781\n",
      "928/928 [==============================] - 219s 236ms/step - loss: 0.4123 - accuracy: 0.7969 - val_loss: 0.7498 - val_accuracy: 0.6514\n",
      "Epoch 25/40\n",
      "927/928 [============================>.] - ETA: 0s - loss: 0.4089 - accuracy: 0.7998\n",
      "Epoch 25: val_accuracy did not improve from 0.65781\n",
      "928/928 [==============================] - 218s 235ms/step - loss: 0.4089 - accuracy: 0.7999 - val_loss: 0.7416 - val_accuracy: 0.6544\n",
      "Epoch 26/40\n",
      "927/928 [============================>.] - ETA: 0s - loss: 0.4073 - accuracy: 0.7984\n",
      "Epoch 26: val_accuracy improved from 0.65781 to 0.66038, saving model to /content/drive/MyDrive/new_eve_trial2/vgg_model_checkpoint.h5py\n",
      "928/928 [==============================] - 219s 236ms/step - loss: 0.4072 - accuracy: 0.7984 - val_loss: 0.7283 - val_accuracy: 0.6604\n",
      "Epoch 27/40\n",
      "927/928 [============================>.] - ETA: 0s - loss: 0.4081 - accuracy: 0.7982\n",
      "Epoch 27: val_accuracy did not improve from 0.66038\n",
      "928/928 [==============================] - 219s 236ms/step - loss: 0.4081 - accuracy: 0.7981 - val_loss: 0.7326 - val_accuracy: 0.6588\n",
      "Epoch 28/40\n",
      "927/928 [============================>.] - ETA: 0s - loss: 0.4095 - accuracy: 0.8010\n",
      "Epoch 28: val_accuracy improved from 0.66038 to 0.66295, saving model to /content/drive/MyDrive/new_eve_trial2/vgg_model_checkpoint.h5py\n",
      "928/928 [==============================] - 217s 233ms/step - loss: 0.4094 - accuracy: 0.8011 - val_loss: 0.7160 - val_accuracy: 0.6629\n",
      "Epoch 29/40\n",
      "927/928 [============================>.] - ETA: 0s - loss: 0.4050 - accuracy: 0.8004\n",
      "Epoch 29: val_accuracy did not improve from 0.66295\n",
      "928/928 [==============================] - 216s 232ms/step - loss: 0.4049 - accuracy: 0.8004 - val_loss: 0.7376 - val_accuracy: 0.6512\n",
      "Epoch 30/40\n",
      "927/928 [============================>.] - ETA: 0s - loss: 0.4053 - accuracy: 0.8026\n",
      "Epoch 30: val_accuracy did not improve from 0.66295\n",
      "928/928 [==============================] - 218s 235ms/step - loss: 0.4052 - accuracy: 0.8026 - val_loss: 0.7481 - val_accuracy: 0.6488\n",
      "Epoch 31/40\n",
      "927/928 [============================>.] - ETA: 0s - loss: 0.4062 - accuracy: 0.8005\n",
      "Epoch 31: val_accuracy did not improve from 0.66295\n",
      "928/928 [==============================] - 218s 234ms/step - loss: 0.4062 - accuracy: 0.8005 - val_loss: 0.7293 - val_accuracy: 0.6582\n",
      "Epoch 32/40\n",
      "927/928 [============================>.] - ETA: 0s - loss: 0.4042 - accuracy: 0.8030\n",
      "Epoch 32: val_accuracy did not improve from 0.66295\n",
      "928/928 [==============================] - 217s 234ms/step - loss: 0.4043 - accuracy: 0.8029 - val_loss: 0.7714 - val_accuracy: 0.6400\n",
      "Epoch 33/40\n",
      "927/928 [============================>.] - ETA: 0s - loss: 0.4045 - accuracy: 0.8031\n",
      "Epoch 33: val_accuracy did not improve from 0.66295\n",
      "928/928 [==============================] - 218s 234ms/step - loss: 0.4045 - accuracy: 0.8031 - val_loss: 0.7708 - val_accuracy: 0.6396\n",
      "Epoch 34/40\n",
      "927/928 [============================>.] - ETA: 0s - loss: 0.4075 - accuracy: 0.8014\n",
      "Epoch 34: val_accuracy did not improve from 0.66295\n",
      "928/928 [==============================] - 218s 234ms/step - loss: 0.4075 - accuracy: 0.8013 - val_loss: 0.7774 - val_accuracy: 0.6404\n",
      "Epoch 35/40\n",
      "928/928 [==============================] - ETA: 0s - loss: 0.4000 - accuracy: 0.8035\n",
      "Epoch 35: val_accuracy did not improve from 0.66295\n",
      "928/928 [==============================] - 218s 235ms/step - loss: 0.4000 - accuracy: 0.8035 - val_loss: 0.7879 - val_accuracy: 0.6365\n",
      "Epoch 36/40\n",
      "927/928 [============================>.] - ETA: 0s - loss: 0.4033 - accuracy: 0.7999\n",
      "Epoch 36: val_accuracy did not improve from 0.66295\n",
      "928/928 [==============================] - 218s 235ms/step - loss: 0.4034 - accuracy: 0.7999 - val_loss: 0.7787 - val_accuracy: 0.6422\n",
      "Epoch 37/40\n",
      "927/928 [============================>.] - ETA: 0s - loss: 0.4032 - accuracy: 0.8012\n",
      "Epoch 37: val_accuracy did not improve from 0.66295\n",
      "928/928 [==============================] - 218s 234ms/step - loss: 0.4031 - accuracy: 0.8012 - val_loss: 0.7519 - val_accuracy: 0.6497\n",
      "Epoch 38/40\n",
      "927/928 [============================>.] - ETA: 0s - loss: 0.3997 - accuracy: 0.8033\n",
      "Epoch 38: val_accuracy did not improve from 0.66295\n",
      "928/928 [==============================] - 218s 235ms/step - loss: 0.3997 - accuracy: 0.8034 - val_loss: 0.7526 - val_accuracy: 0.6501\n",
      "Epoch 39/40\n",
      "927/928 [============================>.] - ETA: 0s - loss: 0.4035 - accuracy: 0.8018\n",
      "Epoch 39: val_accuracy did not improve from 0.66295\n",
      "928/928 [==============================] - 219s 236ms/step - loss: 0.4036 - accuracy: 0.8018 - val_loss: 0.7561 - val_accuracy: 0.6463\n",
      "Epoch 40/40\n",
      "927/928 [============================>.] - ETA: 0s - loss: 0.4008 - accuracy: 0.8031\n",
      "Epoch 40: val_accuracy did not improve from 0.66295\n",
      "928/928 [==============================] - 218s 235ms/step - loss: 0.4007 - accuracy: 0.8031 - val_loss: 0.7662 - val_accuracy: 0.6464\n"
     ]
    }
   ],
   "source": [
    "vgg_16_fitting = vgg_16_model.fit(\n",
    "    tf_dataset_train,\n",
    "    batch_size=8,\n",
    "    epochs=40,\n",
    "    validation_data=tf_dataset_val,\n",
    "    callbacks=[early_stopping_vgg, model_checkpoint_vgg]\n",
    ")\n"
   ]
  },
  {
   "cell_type": "markdown",
   "metadata": {
    "id": "abIuSUkF6sgK"
   },
   "source": [
    "## Plotting the training and validation errors vs. epochs"
   ]
  },
  {
   "cell_type": "markdown",
   "metadata": {
    "id": "xSKjfj3-SI0Z"
   },
   "source": [
    "## **EfficientNetB0**"
   ]
  },
  {
   "cell_type": "code",
   "execution_count": null,
   "metadata": {
    "id": "1iLn-VPuCS2b",
    "outputId": "2820d732-5b48-4ad0-d26e-a99b28ca40fc"
   },
   "outputs": [
    {
     "data": {
      "image/png": "[encoded data removed]",
      "text/plain": [
       "<Figure size 640x480 with 1 Axes>"
      ]
     },
     "metadata": {},
     "output_type": "display_data"
    }
   ],
   "source": [
    "training_errors = [1 - acc for acc in hist_training_eff.history['accuracy']]\n",
    "validation_errors = [1 - acc for acc in hist_training_eff.history['val_accuracy']]\n",
    "plt.plot(training_errors, label='Training Error')\n",
    "plt.plot(validation_errors, label='Validation Error')\n",
    "plt.xlabel('Epochs')\n",
    "plt.ylabel('Error')\n",
    "plt.legend()\n",
    "plt.show()"
   ]
  },
  {
   "cell_type": "markdown",
   "metadata": {
    "id": "TiA8aT5MSMwU"
   },
   "source": [
    "## **ResNet50**"
   ]
  },
  {
   "cell_type": "code",
   "execution_count": null,
   "metadata": {
    "colab": {
     "base_uri": "https://localhost:8080/",
     "height": 472
    },
    "id": "Y6dBpuDikKuq",
    "outputId": "05dc3f60-a2cc-4476-9c0b-e15ac2b49bec"
   },
   "outputs": [
    {
     "data": {
      "image/png": "[encoded data removed]",
      "text/plain": [
       "<Figure size 640x480 with 1 Axes>"
      ]
     },
     "metadata": {},
     "output_type": "display_data"
    }
   ],
   "source": [
    "training_errors = [1 - acc for acc in hist_training_res.history['accuracy']]\n",
    "validation_errors = [1 - acc for acc in hist_training_res.history['val_accuracy']]\n",
    "plt.plot(training_errors, label='Training Error')\n",
    "plt.plot(validation_errors, label='Validation Error')\n",
    "plt.xlabel('Epochs')\n",
    "plt.ylabel('Error')\n",
    "plt.title('ResNet50')\n",
    "plt.legend()\n",
    "plt.show()"
   ]
  },
  {
   "cell_type": "markdown",
   "metadata": {
    "id": "6cwgzWCfSSOs"
   },
   "source": [
    "## **VGG16**"
   ]
  },
  {
   "cell_type": "code",
   "execution_count": null,
   "metadata": {
    "colab": {
     "base_uri": "https://localhost:8080/",
     "height": 472
    },
    "id": "QkGqgLiJjOPe",
    "outputId": "560d281c-539d-454f-91ca-49467feadc4c"
   },
   "outputs": [
    {
     "data": {
      "image/png": "[encoded data removed]",
      "text/plain": [
       "<Figure size 640x480 with 1 Axes>"
      ]
     },
     "metadata": {},
     "output_type": "display_data"
    }
   ],
   "source": [
    "training_errors = [1 - acc for acc in vgg_16_fitting.history['accuracy']]\n",
    "validation_errors = [1 - acc for acc in vgg_16_fitting.history['val_accuracy']]\n",
    "plt.plot(training_errors, label='Training Error')\n",
    "plt.plot(validation_errors, label='Validation Error')\n",
    "plt.xlabel('Epochs')\n",
    "plt.ylabel('Error')\n",
    "plt.title('VGG')\n",
    "plt.legend()\n",
    "plt.show()"
   ]
  },
  {
   "cell_type": "markdown",
   "metadata": {
    "id": "9xiKUyQr4m_C"
   },
   "source": [
    "# **EfficientNetB0**"
   ]
  },
  {
   "cell_type": "markdown",
   "metadata": {
    "id": "KXnnSGFo41EI"
   },
   "source": [
    "Test DataSet"
   ]
  },
  {
   "cell_type": "code",
   "execution_count": 29,
   "metadata": {
    "colab": {
     "base_uri": "https://localhost:8080/"
    },
    "id": "GG4Cc5B_6BgU",
    "outputId": "e1b2fb22-2f9f-46bb-8ccc-f92255fde4a0"
   },
   "outputs": [
    {
     "name": "stdout",
     "output_type": "stream",
     "text": [
      "EfficientNetB0 for Test DataSet\n",
      "F1-Score: 0.79\n",
      "Precision: 0.66\n",
      "Recall: 0.86\n",
      "Accuracy: 0.66\n"
     ]
    }
   ],
   "source": [
    "y_pred = eff_net_model.predict(tf_dataset_test)\n",
    "y_pred_labels = np.argmax(y_pred, axis=1)\n",
    "y_true = np.concatenate([y.numpy() for _, y in tf_dataset_test])\n",
    "f1 = f1_score(y_true, y_pred_labels)\n",
    "p = precision_score(y_true, y_pred_labels)\n",
    "r = recall_score(y_true, y_pred_labels)\n",
    "a = accuracy_score(y_true, y_pred_labels)\n",
    "print(\"EfficientNetB0 for Test DataSet\")\n",
    "print(f\"F1-Score: {f1:.2f}\")\n",
    "print(f\"Precision: {p:.2f}\")\n",
    "print(f\"Recall: {r:.2f}\")\n",
    "print(f\"Accuracy: {a:.2f}\")"
   ]
  },
  {
   "cell_type": "markdown",
   "metadata": {
    "id": "U1zJQ3OF41Hq"
   },
   "source": [
    "Train DataSet"
   ]
  },
  {
   "cell_type": "code",
   "execution_count": 31,
   "metadata": {
    "colab": {
     "base_uri": "https://localhost:8080/"
    },
    "id": "d98we0D56BoI",
    "outputId": "829fb7e1-9f7b-453e-de4c-6231bbbf505b"
   },
   "outputs": [
    {
     "name": "stdout",
     "output_type": "stream",
     "text": [
      "EfficientNetB0 for Train DataSet\n",
      "F1-Score: 0.74\n",
      "Precision: 0.66\n",
      "Recall: 0.83\n",
      "Accuracy: 0.66\n"
     ]
    }
   ],
   "source": [
    "y_pred = eff_m.predict(tf_dataset_train)\n",
    "y_pred_labels = np.argmax(y_pred, axis=1)\n",
    "y_true = np.concatenate([y.numpy() for _, y in tf_dataset_train])\n",
    "f = f1_score(y_true, y_pred_labels)\n",
    "p_cnn = precision_score(y_true, y_pred_labels)\n",
    "r_cnn = recall_score(y_true, y_pred_labels)\n",
    "a_cnn = accuracy_score(y_true, y_pred_labels)\n",
    "print(\"EfficientNetB0 for Train DataSet\")\n",
    "print(f\"F1-Score: {f:.2f}\")\n",
    "print(f\"Precision: {p:.2f}\")\n",
    "print(f\"Recall: {r:.2f}\")\n",
    "print(f\"Accuracy: {a:.2f}\")"
   ]
  },
  {
   "cell_type": "markdown",
   "metadata": {
    "id": "mYPw79Ib41K4"
   },
   "source": [
    "Validation DataSet"
   ]
  },
  {
   "cell_type": "code",
   "execution_count": 34,
   "metadata": {
    "colab": {
     "base_uri": "https://localhost:8080/"
    },
    "id": "6omjFZBK6Bug",
    "outputId": "a803a100-006c-4d5a-a64c-eb0a83f3b014"
   },
   "outputs": [
    {
     "name": "stdout",
     "output_type": "stream",
     "text": [
      "EfficientNetB0 for Validation DataSet\n",
      "F1-Score: 0.49\n",
      "Precision: 0.32\n",
      "Recall: 0.79\n",
      "Accuracy: 0.32\n"
     ]
    }
   ],
   "source": [
    "y_pred = eff_m.predict(tf_dataset_val)\n",
    "y_pred_labels = np.argmax(y_pred, axis=1)\n",
    "y_true = np.concatenate([y.numpy() for _, y in tf_dataset_val])\n",
    "f = f1_score(y_true, y_pred_labels)\n",
    "p = precision_score(y_true, y_pred_labels)\n",
    "r = recall_score(y_true, y_pred_labels)\n",
    "a = accuracy_score(y_true, y_pred_labels)\n",
    "print(\"EfficientNetB0 for Validation DataSet\")\n",
    "print(f\"F1-Score: {f:.2f}\")\n",
    "print(f\"Precision: {p:.2f}\")\n",
    "print(f\"Recall: {r:.2f}\")\n",
    "print(f\"Accuracy: {a:.2f}\")"
   ]
  },
  {
   "cell_type": "markdown",
   "metadata": {
    "id": "6jdchtLV2aZH"
   },
   "source": [
    "# **ResNet50**"
   ]
  },
  {
   "cell_type": "markdown",
   "metadata": {
    "id": "Dfh9lhaN3LHG"
   },
   "source": [
    "Test DataSet"
   ]
  },
  {
   "cell_type": "code",
   "execution_count": 23,
   "metadata": {
    "colab": {
     "base_uri": "https://localhost:8080/"
    },
    "id": "EchsO1Oh2xW0",
    "outputId": "2f5b3e8a-8ccf-4db2-845f-77b848cdaf18"
   },
   "outputs": [
    {
     "name": "stdout",
     "output_type": "stream",
     "text": [
      "401/401 [==============================] - 107s 260ms/step\n",
      "ResNet50 for Test DataSet\n",
      "F1-Score: 0.76\n",
      "Precision: 0.65\n",
      "Recall: 0.91\n",
      "Accuracy: 0.63\n"
     ]
    }
   ],
   "source": [
    "y_pred = res_net_model.predict(tf_dataset_test)\n",
    "y_pred_labels = np.argmax(y_pred, axis=1)\n",
    "y_true = np.concatenate([y.numpy() for _, y in tf_dataset_test])\n",
    "f1 = f1_score(y_true, y_pred_labels)\n",
    "p = precision_score(y_true, y_pred_labels)\n",
    "r = recall_score(y_true, y_pred_labels)\n",
    "a = accuracy_score(y_true, y_pred_labels)\n",
    "print(\"ResNet50 for Test DataSet\")\n",
    "print(f\"F1-Score: {f1:.2f}\")\n",
    "print(f\"Precision: {p:.2f}\")\n",
    "print(f\"Recall: {r:.2f}\")\n",
    "print(f\"Accuracy: {a:.2f}\")"
   ]
  },
  {
   "cell_type": "markdown",
   "metadata": {
    "id": "k2vOYfmr3QTi"
   },
   "source": [
    "Train DataSet"
   ]
  },
  {
   "cell_type": "code",
   "execution_count": 24,
   "metadata": {
    "colab": {
     "base_uri": "https://localhost:8080/"
    },
    "id": "zYhRX26x4hzf",
    "outputId": "40a319c8-5be7-41f5-ea31-ccb625b89f33"
   },
   "outputs": [
    {
     "name": "stdout",
     "output_type": "stream",
     "text": [
      "928/928 [==============================] - 237s 256ms/step\n",
      "ResNet50 for Train DataSet\n",
      "F1-Score: 0.70\n",
      "Precision: 0.65\n",
      "Recall: 0.91\n",
      "Accuracy: 0.63\n"
     ]
    }
   ],
   "source": [
    "y_pred = res_net_model.predict(tf_dataset_train)\n",
    "y_pred_labels = np.argmax(y_pred, axis=1)\n",
    "y_true = np.concatenate([y.numpy() for _, y in tf_dataset_train])\n",
    "f = f1_score(y_true, y_pred_labels)\n",
    "p_cnn = precision_score(y_true, y_pred_labels)\n",
    "r_cnn = recall_score(y_true, y_pred_labels)\n",
    "a_cnn = accuracy_score(y_true, y_pred_labels)\n",
    "print(\"ResNet50 for Train DataSet\")\n",
    "print(f\"F1-Score: {f:.2f}\")\n",
    "print(f\"Precision: {p:.2f}\")\n",
    "print(f\"Recall: {r:.2f}\")\n",
    "print(f\"Accuracy: {a:.2f}\")"
   ]
  },
  {
   "cell_type": "markdown",
   "metadata": {
    "id": "N2jSg8KK3LS9"
   },
   "source": [
    "Validation DataSet"
   ]
  },
  {
   "cell_type": "code",
   "execution_count": 25,
   "metadata": {
    "colab": {
     "base_uri": "https://localhost:8080/"
    },
    "id": "WiZOQq394h5z",
    "outputId": "78bbb5fe-b104-445d-9729-768d8f38a81a"
   },
   "outputs": [
    {
     "name": "stdout",
     "output_type": "stream",
     "text": [
      "353/353 [==============================] - 91s 258ms/step\n",
      "ResNet50 for Validation DataSet\n",
      "F1-Score: 0.47\n",
      "Precision: 0.32\n",
      "Recall: 0.88\n",
      "Accuracy: 0.37\n"
     ]
    }
   ],
   "source": [
    "y_pred = res_net_model.predict(tf_dataset_val)\n",
    "y_pred_labels = np.argmax(y_pred, axis=1)\n",
    "y_true = np.concatenate([y.numpy() for _, y in tf_dataset_val])\n",
    "f = f1_score(y_true, y_pred_labels)\n",
    "p = precision_score(y_true, y_pred_labels)\n",
    "r = recall_score(y_true, y_pred_labels)\n",
    "a = accuracy_score(y_true, y_pred_labels)\n",
    "print(\"ResNet50 for Validation DataSet\")\n",
    "print(f\"F1-Score: {f:.2f}\")\n",
    "print(f\"Precision: {p:.2f}\")\n",
    "print(f\"Recall: {r:.2f}\")\n",
    "print(f\"Accuracy: {a:.2f}\")"
   ]
  },
  {
   "cell_type": "markdown",
   "metadata": {
    "id": "tBWRdZ3iVkmw"
   },
   "source": [
    "## **VGG16**"
   ]
  },
  {
   "cell_type": "markdown",
   "metadata": {
    "id": "53oZqAwh2eOI"
   },
   "source": [
    "Test DataSet"
   ]
  },
  {
   "cell_type": "code",
   "execution_count": 18,
   "metadata": {
    "colab": {
     "base_uri": "https://localhost:8080/"
    },
    "id": "NLm9wJ2By1Bg",
    "outputId": "745e03f4-eb41-43eb-ce91-f306103e855a"
   },
   "outputs": [
    {
     "name": "stdout",
     "output_type": "stream",
     "text": [
      "401/401 [==============================] - 132s 329ms/step\n",
      "VGG16 for Test DataSet\n",
      "F1-Score: 0.71\n",
      "Precision: 0.66\n",
      "Recall: 0.77\n",
      "Accuracy: 0.58\n"
     ]
    }
   ],
   "source": [
    "y_pred = vgg_16_model.predict(tf_dataset_test)\n",
    "y_pred_labels = np.argmax(y_pred, axis=1)\n",
    "y_true = np.concatenate([y.numpy() for _, y in tf_dataset_test])\n",
    "f1 = f1_score(y_true, y_pred_labels)\n",
    "p = precision_score(y_true, y_pred_labels)\n",
    "r = recall_score(y_true, y_pred_labels)\n",
    "a = accuracy_score(y_true, y_pred_labels)\n",
    "print(\"VGG16 for Test DataSet\")\n",
    "print(f\"F1-Score: {f1:.2f}\")\n",
    "print(f\"Precision: {p:.2f}\")\n",
    "print(f\"Recall: {r:.2f}\")\n",
    "print(f\"Accuracy: {a:.2f}\")"
   ]
  },
  {
   "cell_type": "markdown",
   "metadata": {
    "id": "1-uhrFM03G5V"
   },
   "source": [
    "Train DataSet"
   ]
  },
  {
   "cell_type": "code",
   "execution_count": 19,
   "metadata": {
    "colab": {
     "base_uri": "https://localhost:8080/"
    },
    "id": "bxV0Q6kvy5u3",
    "outputId": "a614db56-bb56-4e03-a197-cd42334a5ebc"
   },
   "outputs": [
    {
     "name": "stdout",
     "output_type": "stream",
     "text": [
      "928/928 [==============================] - 305s 328ms/step\n",
      "VGG16 for Train DataSet\n",
      "F1-Score: 0.64\n",
      "Precision: 0.59\n",
      "Recall: 0.70\n",
      "Accuracy: 0.54\n"
     ]
    }
   ],
   "source": [
    "y_pred = vgg_m.predict(tf_dataset_train)\n",
    "y_pred_labels = np.argmax(y_pred, axis=1)\n",
    "y_true = np.concatenate([y.numpy() for _, y in tf_dataset_train])\n",
    "f = f1_score(y_true, y_pred_labels)\n",
    "p_cnn = precision_score(y_true, y_pred_labels)\n",
    "r_cnn = recall_score(y_true, y_pred_labels)\n",
    "a_cnn = accuracy_score(y_true, y_pred_labels)\n",
    "print(\"VGG16 for Train DataSet\")\n",
    "print(f\"F1-Score: {f:.2f}\")\n",
    "print(f\"Precision: {p:.2f}\")\n",
    "print(f\"Recall: {r:.2f}\")\n",
    "print(f\"Accuracy: {a:.2f}\")"
   ]
  },
  {
   "cell_type": "markdown",
   "metadata": {
    "id": "Bgx6injz3HBG"
   },
   "source": [
    "Validation DataSet"
   ]
  },
  {
   "cell_type": "code",
   "execution_count": 20,
   "metadata": {
    "colab": {
     "base_uri": "https://localhost:8080/"
    },
    "id": "ymnBOnhry_yH",
    "outputId": "48aa60c5-406b-46d1-ed97-8bfc2f51fe2d"
   },
   "outputs": [
    {
     "name": "stdout",
     "output_type": "stream",
     "text": [
      "353/353 [==============================] - 119s 337ms/step\n",
      "VGG16 for Validation DataSet\n",
      "F1-Score: 0.45\n",
      "Precision: 0.33\n",
      "Recall: 0.72\n",
      "Accuracy: 0.43\n"
     ]
    }
   ],
   "source": [
    "y_pred = vgg_m.predict(tf_dataset_val)\n",
    "y_pred_labels = np.argmax(y_pred, axis=1)\n",
    "y_true = np.concatenate([y.numpy() for _, y in tf_dataset_val])\n",
    "f = f1_score(y_true, y_pred_labels)\n",
    "p = precision_score(y_true, y_pred_labels)\n",
    "r = recall_score(y_true, y_pred_labels)\n",
    "a = accuracy_score(y_true, y_pred_labels)\n",
    "print(\"VGG16 for Validation DataSet\")\n",
    "print(f\"F1-Score: {f:.2f}\")\n",
    "print(f\"Precision: {p:.2f}\")\n",
    "print(f\"Recall: {r:.2f}\")\n",
    "print(f\"Accuracy: {a:.2f}\")"
   ]
  },
  {
   "cell_type": "markdown",
   "metadata": {
    "id": "Jz7j8bKCnjkn"
   },
   "source": [
    "## 1. vi) Compare the results of transfer learning with those of CNN + MLP model and explain them."
   ]
  },
  {
   "cell_type": "markdown",
   "metadata": {
    "id": "laDkrmKAG0l6"
   },
   "source": [
    "The transfer learning models, including EfficientNetB0, ResNet50, and VGG16, utilize pre-trained weights from ImageNet. This introduces a potential limitation as ImageNet may not encompass a significant number of Mars images, potentially hindering the capture of complex features relevant to our task. Despite this, the models have demonstrated the reported accuracies.\n",
    "\n",
    "In the case of the CNN + MLP architecture, we have implemented custom fine-tuned dense layers to create respective models. Adhering to the specified constraints has enabled us to achieve the reported accuracies.\n",
    "\n",
    "However, there is a possibility of overfitting on this dataset due to the small, greyscale nature of the tiles and the inherently vague characteristics of ice. These factors contribute to some fluctuation in the respective model results."
   ]
  },
  {
   "cell_type": "markdown",
   "metadata": {
    "id": "AN0KkrfTpK4Z"
   },
   "source": [
    "# **Summary of Accuracy Scores:**\n",
    "The following are the accuracy for **test data** in the respective models, and precision, recall and F1-score for 'weighted average'\n",
    "1. **CNN + MLP**<br>\n",
    "Accuracy = 57%<br>\n",
    "Precision = 66%<br>\n",
    "Recall = 70%<br>\n",
    "F1-Score = 68%<br>\n",
    "\n",
    "---\n",
    "**Transfer Learning Models:**\n",
    "\n",
    "---\n",
    "\n",
    "2. **EfficientNetB0**<br>\n",
    "Accuracy = 66%<br>\n",
    "Precision = 66%<br>\n",
    "Recall = 86%<br>\n",
    "F1-Score = 79%<br>\n",
    "\n",
    "\n",
    "---\n",
    "\n",
    "3. **ResNet50**<br>\n",
    "Accuracy = 63%<br>\n",
    "Precision = 65%<br>\n",
    "Recall = 91%<br>\n",
    "F1-Score = 76%<br>\n",
    "\n",
    "---\n",
    "\n",
    "4. **VGG16**<br>\n",
    "Accuracy = 58%<br>\n",
    "Precision = 65%<br>\n",
    "Recall = 77%<br>\n",
    "F1-Score = 58%<br>"
   ]
  },
  {
   "cell_type": "markdown",
   "metadata": {
    "id": "N-VvQyy2mMi5"
   },
   "source": [
    "## **References**\n",
    "\n",
    "\n",
    "\n",
    "\n",
    "1.   https://www.tensorflow.org/guide/keras/training_with_built_in_methods\n",
    "2.   https://www.tensorflow.org/api_docs/python/tf/keras/Model\n",
    "1.   https://medium.com/data-science-365/plotting-the-learning-curve-to-analyze-the-training-performance-of-a-neural-network-4a35818d01f2\n",
    "4. https://keras.io/api/optimizers/\n",
    "5. https://www.tensorflow.org/api_docs/python/tf/keras/layers/RandomRotation\n",
    "6. https://www.tensorflow.org/api_docs/python/tf/keras/preprocessing/image/ImageDataGenerator\n",
    "7. https://ai.stackexchange.com/questions/31675/what-is-better-to-use-early-stopping-model-checkpoint-or-both\n",
    "8. https://stackoverflow.com/questions/41668813/how-to-add-and-remove-new-layers-in-keras-after-loading-weights\n",
    "9. https://machinelearningmastery.com/image-augmentation-with-keras-preprocessing-layers-and-tf-image/\n",
    "10. https://towardsdatascience.com/complete-image-augmentation-in-opencv-31a6b02694f5\n",
    "11. https://towardsdatascience.com/a-beginners-guide-to-image-augmentations-in-machine-learning-22c48a2fbd99\n",
    "12. https://machinelearningmastery.com/regression-tutorial-keras-deep-learning-library-python/\n",
    "13. https://www.kaggle.com/code/ryanholbrook/dropout-and-batch-normalization\n",
    "14. https://medium.com/@tejpal.abhyuday/deep-learning-part-5-convolutional-and-residual-networks-575cb388cd93\n",
    "\n",
    "\n",
    "\n",
    "\n",
    "\n",
    "\n",
    "\n"
   ]
  }
 ],
 "metadata": {
  "accelerator": "GPU",
  "colab": {
   "gpuType": "T4",
   "machine_shape": "hm",
   "provenance": []
  },
  "kernelspec": {
   "display_name": "Python 3 (ipykernel)",
   "language": "python",
   "name": "python3"
  },
  "language_info": {
   "codemirror_mode": {
    "name": "ipython",
    "version": 3
   },
   "file_extension": ".py",
   "mimetype": "text/x-python",
   "name": "python",
   "nbconvert_exporter": "python",
   "pygments_lexer": "ipython3",
   "version": "3.11.4"
  }
 },
 "nbformat": 4,
 "nbformat_minor": 1
}
